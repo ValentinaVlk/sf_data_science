{
 "cells": [
  {
   "cell_type": "markdown",
   "metadata": {},
   "source": [
    "**Курс** Специализация Data Science\n",
    "\n",
    "**Дипломный проект.** Бриф учебного кейса \n",
    "\n",
    "«Модель прогнозирования стоимости жилья для агентства недвижимости»"
   ]
  },
  {
   "cell_type": "markdown",
   "metadata": {},
   "source": [
    "**Цель**: разработать модель, которая позволила бы агентству недвижимости обойти конкурентов по скорости и качеству совершения\n",
    "сделок.\n",
    "\n",
    "**Описание данных**:\n",
    "- 'status' — статус продажи;\n",
    "- 'private pool' и 'PrivatePool' — наличие собственного бассейна;\n",
    "- 'propertyType' — тип объекта недвижимости;\n",
    "- 'street' — адрес объекта;\n",
    "- 'baths' — количество ванных комнат;\n",
    "- 'homeFacts' — сведения о строительстве объекта (содержит несколько типов сведений, влияющих на оценку объекта);\n",
    "- 'fireplace' — наличие камина;\n",
    "- 'city' — город;\n",
    "- 'schools' — сведения о школах в районе;\n",
    "- 'sqft' — площадь в футах;\n",
    "- 'zipcode' — почтовый индекс;\n",
    "- 'beds' — количество спален;\n",
    "- 'state' — штат;\n",
    "- 'stories' — количество этажей;\n",
    "- 'mls-id' и 'MlsId' — идентификатор MLS (Multiple Listing Service, система мультилистинга);\n",
    "- 'target' — цена объекта недвижимости (целевой признак, который необходимо спрогнозировать)"
   ]
  },
  {
   "cell_type": "code",
   "execution_count": 1,
   "metadata": {},
   "outputs": [],
   "source": [
    "import numpy as np\n",
    "import pandas as pd\n",
    "import re"
   ]
  },
  {
   "cell_type": "code",
   "execution_count": 2,
   "metadata": {},
   "outputs": [],
   "source": [
    "# зафиусируем RANDOM_SEED\n",
    "RANDOM_SEED = 42"
   ]
  },
  {
   "cell_type": "code",
   "execution_count": 3,
   "metadata": {},
   "outputs": [],
   "source": [
    "# зафиксируем версию пакетов\n",
    "!pip freeze > requirements.txt"
   ]
  },
  {
   "cell_type": "markdown",
   "metadata": {},
   "source": [
    "1) Рассмотрим и познакомимся с данными.\n"
   ]
  },
  {
   "cell_type": "code",
   "execution_count": 14,
   "metadata": {},
   "outputs": [
    {
     "data": {
      "text/html": [
       "<div>\n",
       "<style scoped>\n",
       "    .dataframe tbody tr th:only-of-type {\n",
       "        vertical-align: middle;\n",
       "    }\n",
       "\n",
       "    .dataframe tbody tr th {\n",
       "        vertical-align: top;\n",
       "    }\n",
       "\n",
       "    .dataframe thead th {\n",
       "        text-align: right;\n",
       "    }\n",
       "</style>\n",
       "<table border=\"1\" class=\"dataframe\">\n",
       "  <thead>\n",
       "    <tr style=\"text-align: right;\">\n",
       "      <th></th>\n",
       "      <th>status</th>\n",
       "      <th>private pool</th>\n",
       "      <th>propertyType</th>\n",
       "      <th>street</th>\n",
       "      <th>baths</th>\n",
       "      <th>homeFacts</th>\n",
       "      <th>fireplace</th>\n",
       "      <th>city</th>\n",
       "      <th>schools</th>\n",
       "      <th>sqft</th>\n",
       "      <th>zipcode</th>\n",
       "      <th>beds</th>\n",
       "      <th>state</th>\n",
       "      <th>stories</th>\n",
       "      <th>mls-id</th>\n",
       "      <th>PrivatePool</th>\n",
       "      <th>MlsId</th>\n",
       "      <th>target</th>\n",
       "    </tr>\n",
       "  </thead>\n",
       "  <tbody>\n",
       "    <tr>\n",
       "      <th>0</th>\n",
       "      <td>Active</td>\n",
       "      <td>NaN</td>\n",
       "      <td>Single Family Home</td>\n",
       "      <td>240 Heather Ln</td>\n",
       "      <td>3.5</td>\n",
       "      <td>{'atAGlanceFacts': [{'factValue': '2019', 'fac...</td>\n",
       "      <td>Gas Logs</td>\n",
       "      <td>Southern Pines</td>\n",
       "      <td>[{'rating': ['4', '4', '7', 'NR', '4', '7', 'N...</td>\n",
       "      <td>2900</td>\n",
       "      <td>28387</td>\n",
       "      <td>4</td>\n",
       "      <td>NC</td>\n",
       "      <td>NaN</td>\n",
       "      <td>NaN</td>\n",
       "      <td>NaN</td>\n",
       "      <td>611019</td>\n",
       "      <td>$418,000</td>\n",
       "    </tr>\n",
       "    <tr>\n",
       "      <th>1</th>\n",
       "      <td>for sale</td>\n",
       "      <td>NaN</td>\n",
       "      <td>single-family home</td>\n",
       "      <td>12911 E Heroy Ave</td>\n",
       "      <td>3 Baths</td>\n",
       "      <td>{'atAGlanceFacts': [{'factValue': '2019', 'fac...</td>\n",
       "      <td>NaN</td>\n",
       "      <td>Spokane Valley</td>\n",
       "      <td>[{'rating': ['4/10', 'None/10', '4/10'], 'data...</td>\n",
       "      <td>1,947 sqft</td>\n",
       "      <td>99216</td>\n",
       "      <td>3 Beds</td>\n",
       "      <td>WA</td>\n",
       "      <td>2.0</td>\n",
       "      <td>NaN</td>\n",
       "      <td>NaN</td>\n",
       "      <td>201916904</td>\n",
       "      <td>$310,000</td>\n",
       "    </tr>\n",
       "    <tr>\n",
       "      <th>2</th>\n",
       "      <td>for sale</td>\n",
       "      <td>NaN</td>\n",
       "      <td>single-family home</td>\n",
       "      <td>2005 Westridge Rd</td>\n",
       "      <td>2 Baths</td>\n",
       "      <td>{'atAGlanceFacts': [{'factValue': '1961', 'fac...</td>\n",
       "      <td>yes</td>\n",
       "      <td>Los Angeles</td>\n",
       "      <td>[{'rating': ['8/10', '4/10', '8/10'], 'data': ...</td>\n",
       "      <td>3,000 sqft</td>\n",
       "      <td>90049</td>\n",
       "      <td>3 Beds</td>\n",
       "      <td>CA</td>\n",
       "      <td>1.0</td>\n",
       "      <td>NaN</td>\n",
       "      <td>yes</td>\n",
       "      <td>FR19221027</td>\n",
       "      <td>$2,895,000</td>\n",
       "    </tr>\n",
       "    <tr>\n",
       "      <th>3</th>\n",
       "      <td>for sale</td>\n",
       "      <td>NaN</td>\n",
       "      <td>single-family home</td>\n",
       "      <td>4311 Livingston Ave</td>\n",
       "      <td>8 Baths</td>\n",
       "      <td>{'atAGlanceFacts': [{'factValue': '2006', 'fac...</td>\n",
       "      <td>yes</td>\n",
       "      <td>Dallas</td>\n",
       "      <td>[{'rating': ['9/10', '9/10', '10/10', '9/10'],...</td>\n",
       "      <td>6,457 sqft</td>\n",
       "      <td>75205</td>\n",
       "      <td>5 Beds</td>\n",
       "      <td>TX</td>\n",
       "      <td>3.0</td>\n",
       "      <td>NaN</td>\n",
       "      <td>NaN</td>\n",
       "      <td>14191809</td>\n",
       "      <td>$2,395,000</td>\n",
       "    </tr>\n",
       "    <tr>\n",
       "      <th>4</th>\n",
       "      <td>for sale</td>\n",
       "      <td>NaN</td>\n",
       "      <td>lot/land</td>\n",
       "      <td>1524 Kiscoe St</td>\n",
       "      <td>NaN</td>\n",
       "      <td>{'atAGlanceFacts': [{'factValue': '', 'factLab...</td>\n",
       "      <td>NaN</td>\n",
       "      <td>Palm Bay</td>\n",
       "      <td>[{'rating': ['4/10', '5/10', '5/10'], 'data': ...</td>\n",
       "      <td>NaN</td>\n",
       "      <td>32908</td>\n",
       "      <td>NaN</td>\n",
       "      <td>FL</td>\n",
       "      <td>NaN</td>\n",
       "      <td>NaN</td>\n",
       "      <td>NaN</td>\n",
       "      <td>861745</td>\n",
       "      <td>$5,000</td>\n",
       "    </tr>\n",
       "  </tbody>\n",
       "</table>\n",
       "</div>"
      ],
      "text/plain": [
       "     status private pool        propertyType               street    baths  \\\n",
       "0    Active          NaN  Single Family Home       240 Heather Ln      3.5   \n",
       "1  for sale          NaN  single-family home    12911 E Heroy Ave  3 Baths   \n",
       "2  for sale          NaN  single-family home    2005 Westridge Rd  2 Baths   \n",
       "3  for sale          NaN  single-family home  4311 Livingston Ave  8 Baths   \n",
       "4  for sale          NaN            lot/land       1524 Kiscoe St      NaN   \n",
       "\n",
       "                                           homeFacts fireplace  \\\n",
       "0  {'atAGlanceFacts': [{'factValue': '2019', 'fac...  Gas Logs   \n",
       "1  {'atAGlanceFacts': [{'factValue': '2019', 'fac...       NaN   \n",
       "2  {'atAGlanceFacts': [{'factValue': '1961', 'fac...       yes   \n",
       "3  {'atAGlanceFacts': [{'factValue': '2006', 'fac...       yes   \n",
       "4  {'atAGlanceFacts': [{'factValue': '', 'factLab...       NaN   \n",
       "\n",
       "             city                                            schools  \\\n",
       "0  Southern Pines  [{'rating': ['4', '4', '7', 'NR', '4', '7', 'N...   \n",
       "1  Spokane Valley  [{'rating': ['4/10', 'None/10', '4/10'], 'data...   \n",
       "2     Los Angeles  [{'rating': ['8/10', '4/10', '8/10'], 'data': ...   \n",
       "3          Dallas  [{'rating': ['9/10', '9/10', '10/10', '9/10'],...   \n",
       "4        Palm Bay  [{'rating': ['4/10', '5/10', '5/10'], 'data': ...   \n",
       "\n",
       "         sqft zipcode    beds state stories mls-id PrivatePool       MlsId  \\\n",
       "0        2900   28387       4    NC     NaN    NaN         NaN      611019   \n",
       "1  1,947 sqft   99216  3 Beds    WA     2.0    NaN         NaN   201916904   \n",
       "2  3,000 sqft   90049  3 Beds    CA     1.0    NaN         yes  FR19221027   \n",
       "3  6,457 sqft   75205  5 Beds    TX     3.0    NaN         NaN    14191809   \n",
       "4         NaN   32908     NaN    FL     NaN    NaN         NaN      861745   \n",
       "\n",
       "       target  \n",
       "0    $418,000  \n",
       "1    $310,000  \n",
       "2  $2,895,000  \n",
       "3  $2,395,000  \n",
       "4      $5,000  "
      ]
     },
     "metadata": {},
     "output_type": "display_data"
    },
    {
     "name": "stdout",
     "output_type": "stream",
     "text": [
      "<class 'pandas.core.frame.DataFrame'>\n",
      "RangeIndex: 377185 entries, 0 to 377184\n",
      "Data columns (total 18 columns):\n",
      " #   Column        Non-Null Count   Dtype \n",
      "---  ------        --------------   ----- \n",
      " 0   status        337267 non-null  object\n",
      " 1   private pool  4181 non-null    object\n",
      " 2   propertyType  342452 non-null  object\n",
      " 3   street        377183 non-null  object\n",
      " 4   baths         270847 non-null  object\n",
      " 5   homeFacts     377185 non-null  object\n",
      " 6   fireplace     103115 non-null  object\n",
      " 7   city          377151 non-null  object\n",
      " 8   schools       377185 non-null  object\n",
      " 9   sqft          336608 non-null  object\n",
      " 10  zipcode       377185 non-null  object\n",
      " 11  beds          285903 non-null  object\n",
      " 12  state         377185 non-null  object\n",
      " 13  stories       226470 non-null  object\n",
      " 14  mls-id        24942 non-null   object\n",
      " 15  PrivatePool   40311 non-null   object\n",
      " 16  MlsId         310305 non-null  object\n",
      " 17  target        374704 non-null  object\n",
      "dtypes: object(18)\n",
      "memory usage: 51.8+ MB\n"
     ]
    }
   ],
   "source": [
    "df = pd.read_csv('data/data.csv')\n",
    "display(df.head())\n",
    "df.info()"
   ]
  },
  {
   "cell_type": "markdown",
   "metadata": {},
   "source": [
    "Сразу удалим дубликаты."
   ]
  },
  {
   "cell_type": "code",
   "execution_count": 15,
   "metadata": {},
   "outputs": [
    {
     "name": "stdout",
     "output_type": "stream",
     "text": [
      "Количество строк в датасете: 377185\n"
     ]
    }
   ],
   "source": [
    "count_rows = df.shape[0]\n",
    "print(f'Количество строк в датасете: {count_rows}')"
   ]
  },
  {
   "cell_type": "code",
   "execution_count": 16,
   "metadata": {},
   "outputs": [
    {
     "name": "stdout",
     "output_type": "stream",
     "text": [
      "Удалено дубликатов: 50\n"
     ]
    }
   ],
   "source": [
    "#удаляем дубликаты\n",
    "df = df.drop_duplicates(ignore_index=True)\n",
    "\n",
    "#считаем сколько строк было удалено\n",
    "duplicate_rows = count_rows - df.shape[0]\n",
    "print(f'Удалено дубликатов: {duplicate_rows}')"
   ]
  },
  {
   "cell_type": "markdown",
   "metadata": {},
   "source": [
    "Посмотрим на пропуски."
   ]
  },
  {
   "cell_type": "code",
   "execution_count": 17,
   "metadata": {},
   "outputs": [
    {
     "data": {
      "text/plain": [
       "status          10.584274\n",
       "private pool    98.891378\n",
       "propertyType     9.209699\n",
       "street           0.000530\n",
       "baths           28.188315\n",
       "homeFacts        0.000000\n",
       "fireplace       72.659127\n",
       "city             0.009015\n",
       "schools          0.000000\n",
       "sqft            10.752118\n",
       "zipcode          0.000000\n",
       "beds            24.196640\n",
       "state            0.000000\n",
       "stories         39.952007\n",
       "mls-id          93.386453\n",
       "PrivatePool     89.311520\n",
       "MlsId           17.730786\n",
       "target           0.657589\n",
       "dtype: float64"
      ]
     },
     "execution_count": 17,
     "metadata": {},
     "output_type": "execute_result"
    }
   ],
   "source": [
    "df.isnull().mean() * 100"
   ]
  },
  {
   "cell_type": "markdown",
   "metadata": {},
   "source": [
    "Удалим признаки 'mls-id' и 'MlsId', так как эти признаки нужны для идентификации объектов недвижимости для риэлторов, нам они не нужны."
   ]
  },
  {
   "cell_type": "code",
   "execution_count": 18,
   "metadata": {},
   "outputs": [],
   "source": [
    "df = df.drop(['MlsId', 'mls-id'], axis=1)"
   ]
  },
  {
   "cell_type": "markdown",
   "metadata": {},
   "source": [
    "Признаки private pool и PrivatePool содержат дублирующую информацию и самое большое количество пропусков. Объединим их; похоже все эти пропуски свидетельствует об отсутствии бассейна."
   ]
  },
  {
   "cell_type": "code",
   "execution_count": 19,
   "metadata": {},
   "outputs": [
    {
     "name": "stdout",
     "output_type": "stream",
     "text": [
      "[nan 'Yes']\n",
      "[nan 'yes' 'Yes']\n"
     ]
    }
   ],
   "source": [
    "print(df['private pool'].unique())\n",
    "print(df['PrivatePool'].unique())\n",
    "\n",
    "# создадим третий столбец и заполним его данными из двух, меняя данные на булевые переменные\n",
    "df['private_pool_final'] = df['private pool'].fillna('') + df['PrivatePool'].fillna('')\n",
    "df['private_pool_final'] = df['private_pool_final'].replace(['yes', 'Yes'], True)\n",
    "df['private_pool_final'] = df['private_pool_final'].replace('', False)\n",
    "# смотрим уникальные значения в новом столбце\n",
    "df['private_pool_final'].unique()\n",
    "# удаляем обработанные столбцы\n",
    "df = df.drop(['private pool', 'PrivatePool'], axis=1)"
   ]
  },
  {
   "cell_type": "markdown",
   "metadata": {},
   "source": [
    "Обратим внимание на признак fireplace, который также содержит большое количество пропусков и удалим его."
   ]
  },
  {
   "cell_type": "code",
   "execution_count": 20,
   "metadata": {},
   "outputs": [],
   "source": [
    "df = df.drop(['fireplace'], axis=1)"
   ]
  },
  {
   "cell_type": "markdown",
   "metadata": {},
   "source": [
    "Что касается признака stories, то количество пропусков тоже велико, а также особой информативности этот признак не несет, поэтому удалим его."
   ]
  },
  {
   "cell_type": "code",
   "execution_count": 21,
   "metadata": {},
   "outputs": [],
   "source": [
    "df = df.drop(['stories'], axis=1)"
   ]
  },
  {
   "cell_type": "markdown",
   "metadata": {},
   "source": [
    "Рассмотрим признак sqft на наличие пропусков."
   ]
  },
  {
   "cell_type": "code",
   "execution_count": 22,
   "metadata": {},
   "outputs": [
    {
     "name": "stdout",
     "output_type": "stream",
     "text": [
      "Количество пропущенных значений: 10.75 %\n"
     ]
    },
    {
     "data": {
      "text/plain": [
       "array(['2900', '1,947 sqft', '3,000 sqft', '6,457 sqft', nan, '897 sqft',\n",
       "       '1,507', '3588', '1,930', '1,300 sqft', '3,130', '2,839 sqft',\n",
       "       'Total interior livable area: 1,820 sqft', '2,454', '2,203',\n",
       "       '3,325', '3,080 sqft', '1,612 sqft', '1,731 sqft',\n",
       "       'Total interior livable area: 5,266 sqft'], dtype=object)"
      ]
     },
     "execution_count": 22,
     "metadata": {},
     "output_type": "execute_result"
    }
   ],
   "source": [
    "sqft_isnulldata = df['sqft'].isnull().mean()*100\n",
    "print(f'Количество пропущенных значений: {sqft_isnulldata:.2f} %')\n",
    "df['sqft'].unique()[0:20]"
   ]
  },
  {
   "cell_type": "code",
   "execution_count": 23,
   "metadata": {},
   "outputs": [
    {
     "name": "stdout",
     "output_type": "stream",
     "text": [
      "Количество пропущенных значений sqft: 41370\n"
     ]
    }
   ],
   "source": [
    "# оставим только числовые значения \n",
    "df['sqft'] = df['sqft'].str.replace(',', '').str.extract('(\\d+)')\n",
    "\n",
    "# смотрим количество пропусков в столбце\n",
    "sqft_dataisnull = df['sqft'].isnull().sum()\n",
    "print(f'Количество пропущенных значений sqft: {sqft_dataisnull}')"
   ]
  },
  {
   "cell_type": "markdown",
   "metadata": {},
   "source": [
    "Рассмотрим признак beds и перенесем данные по площади в другие столбцы, они нам могут понадобиться для заполнения пропусков в столбце sqft"
   ]
  },
  {
   "cell_type": "code",
   "execution_count": 24,
   "metadata": {},
   "outputs": [],
   "source": [
    "df['sqft_from_beds'] = df['beds'].str.extract(r'(\\d+,\\d+)\\s+sqft', expand=False)\n",
    "df['acres_from_beds'] = df['beds'].str.extract(r'([\\d.]+)\\s+acres', expand=False)"
   ]
  },
  {
   "cell_type": "code",
   "execution_count": 25,
   "metadata": {},
   "outputs": [
    {
     "name": "stdout",
     "output_type": "stream",
     "text": [
      "Пропуски в столбце beds_final: 0.0 %\n"
     ]
    }
   ],
   "source": [
    "# удалим данные\n",
    "df['beds'] = df['beds'].str.replace(r'(\\d+,\\d+)\\s+sqft', '', regex=True)\n",
    "df['beds'] = df['beds'].str.replace(r'([\\d.]+)\\s+acres', '', regex=True)\n",
    "\n",
    "# изменим некоторые значения\n",
    "df['beds'] = df['beds'].replace(['1 Bath, 2 Bedrooms, Cable TV Available, Dining Room, Eat-In Kitchen, Living Room', '1 Bath, 2 Bedrooms, Living Room, Range/Oven, Refrigerator', '1 Bath, 2 Bedrooms', '1 Bath, 2 Bedrooms, Eat-In Kitchen, Living Room, Range/Oven, Refrigerator'], 2)\n",
    "df['beds'] = df['beds'].replace(['1 Bath, 3 or More Bedrooms, Cable TV Available, Dining Room, Eat-In Kitchen, Living Room, Range/Oven, Refrigerator', '3 or More Bedrooms, Dining Room, Living Room, Range/Oven, Refrigerator', '3 or More Bedrooms', '2 Baths, 3 or More Bedrooms'], 3)\n",
    "df['beds'] = df['beds'].replace([\"Based on Redfin's St Johns data, we estimate the home's value is $360,731, which is 2.2% less than its current list price.\", \"Based on Redfin's Raleigh data, we estimate the home's value is $708,248, which is 1.2% more than its current list price.\", '-- bd', '-- sqft', '4 sqft', '60 sqft', '1 acre', '840 sqft', '540 sqft', '100 sqft', '871 sqft', '640 sqft', '831 sqft', '448 sqft', '248 sqft', '# Bedrooms 1st Floor'], 0)\n",
    "\n",
    "# переносим данные по спальням в другие столбцы\n",
    "df['beds_final1'] = df['beds'].str.extract(r'(\\d+)\\s*(?:Beds|bd)', expand=False)\n",
    "df['beds_final2'] = df['beds'].str.extract(r'(\\d+\\.\\d+|\\d+)')\n",
    "\n",
    "# создадим столбец beds_final и заполняем его данными из двух, заменяя пропуски на 0\n",
    "df['beds_final'] = df['beds_final1'].fillna(0)\n",
    "df['beds_final'] = df['beds_final2'].fillna(0)\n",
    "\n",
    "# проверим на пропуски\n",
    "beds_nulldata = df['beds_final'].isnull().mean()*100\n",
    "print(f'Пропуски в столбце beds_final: {beds_nulldata} %')\n",
    "\n",
    "# изменим тип данных\n",
    "df['beds_final'] = df['beds_final'].astype(float)\n",
    "\n",
    "# удалим отработанные столбцы\n",
    "df = df.drop(['beds_final1', 'beds_final2', 'beds'], axis=1)"
   ]
  },
  {
   "cell_type": "markdown",
   "metadata": {},
   "source": [
    "Теперь заполним пропуски в столбце с площадью данными из столбца beds (sqft_from_beds и acres_from_beds)"
   ]
  },
  {
   "cell_type": "code",
   "execution_count": 26,
   "metadata": {},
   "outputs": [
    {
     "name": "stdout",
     "output_type": "stream",
     "text": [
      "Количество пропущенных значений sqft после дополнения: 40049\n"
     ]
    }
   ],
   "source": [
    "# удалим лишние знаки\n",
    "df['sqft_from_beds'] = df['sqft_from_beds'].replace(',', '', regex=True)\n",
    "\n",
    "# заполним столбец данными из sqft_from_beds\n",
    "df['sqft'] = df['sqft'].fillna(df['sqft_from_beds'])\n",
    "\n",
    "# снова проверим на наличие пропусков\n",
    "sqft_dataisnull_1 = df['sqft'].isnull().sum()\n",
    "print(f'Количество пропущенных значений sqft после дополнения: {sqft_dataisnull_1}')"
   ]
  },
  {
   "cell_type": "code",
   "execution_count": 27,
   "metadata": {},
   "outputs": [
    {
     "name": "stdout",
     "output_type": "stream",
     "text": [
      "Количество пропущенных значений sqft после второго дополнения: 38458\n"
     ]
    }
   ],
   "source": [
    "# проверим содержание столбца\n",
    "df['acres_from_beds'].unique()[0:500]\n",
    "\n",
    "# изменим столбец на числовое значение и создадим новый столбец, в котором акры переведим в футы (1 акр = 43560 футов кв.)\n",
    "df['acres_from_beds'] = df['acres_from_beds'].astype(float)\n",
    "df['acres_from_beds_new'] = df['acres_from_beds'] * 43560\n",
    "\n",
    "# заполним столбец данными из sqft_from_beds\n",
    "df['sqft'] = df['sqft'].fillna(df['acres_from_beds_new'])\n",
    "\n",
    "# смотрим снова количество пропусков\n",
    "sqft_dataisnull_2 = df['sqft'].isnull().sum()\n",
    "print(f'Количество пропущенных значений sqft после второго дополнения: {sqft_dataisnull_2}')"
   ]
  },
  {
   "cell_type": "code",
   "execution_count": 28,
   "metadata": {},
   "outputs": [],
   "source": [
    "# заменим пропуски на значение 0\n",
    "df['sqft'] = df['sqft'].fillna(0)\n",
    "\n",
    "# изменим тип данных\n",
    "df['sqft'] = df['sqft'].astype(int)\n",
    "\n",
    "# удалим лишние столбцы\n",
    "df = df.drop(['sqft_from_beds', 'acres_from_beds', 'acres_from_beds_new'], axis=1)"
   ]
  },
  {
   "cell_type": "markdown",
   "metadata": {},
   "source": [
    "Рассмотрим признак bath."
   ]
  },
  {
   "cell_type": "code",
   "execution_count": 30,
   "metadata": {},
   "outputs": [
    {
     "name": "stdout",
     "output_type": "stream",
     "text": [
      "Процент пропущенных значений: 28.19%\n",
      "Количество уникальных значений: 229\n",
      "Уникальные значения: ['3.5', '3 Baths', '2 Baths', '8 Baths', nan, '2', '3', 'Bathrooms: 2', '1,750', '4 Baths']\n"
     ]
    }
   ],
   "source": [
    "# выполним проверку\n",
    "missing_values_count = df.baths.isna().sum()\n",
    "total_count = len(df)\n",
    "missing_values_percentage = (missing_values_count / total_count) * 100\n",
    "\n",
    "print(f\"Процент пропущенных значений: {missing_values_percentage:.2f}%\\n\"\n",
    "      f\"Количество уникальных значений: {df.baths.nunique()}\\n\"\n",
    "      f\"Уникальные значения: {list(df.baths.unique()[:10])}\")"
   ]
  },
  {
   "cell_type": "code",
   "execution_count": 31,
   "metadata": {},
   "outputs": [],
   "source": [
    "# Удалим все буквы, пробелы и двоеточия\n",
    "df.baths = df.baths.str.replace('[a-zA-Z:]','', regex=True)\n",
    "# Удаляем все пробелы\n",
    "df.baths = df.baths.str.replace(' ','', regex=True)"
   ]
  },
  {
   "cell_type": "markdown",
   "metadata": {},
   "source": [
    "Заполним пропуски нулями, так как большинство пропущенных значений означает отсутвие ванных комнат."
   ]
  },
  {
   "cell_type": "code",
   "execution_count": 32,
   "metadata": {},
   "outputs": [],
   "source": [
    "# исправим данные\n",
    "df['baths'] = df['baths'].str.replace('[a-zA-Z+:]','', regex=True)\n",
    "df['baths'].replace(['nan','', '~', '..', '--', '—','0.0','0.00','0/0'], 0, inplace=True)\n",
    "df['baths'].replace(['1-2','1/1-0/1-0/1-0', '1/1/1/1','1-0/1-0/1', ], 1, inplace=True)\n",
    "df['baths'].replace(['2-1/2-1/1-1/1-1','3-1/2-2',], 2, inplace=True)\n",
    "df['baths'].replace(['116/116/116'], 116, inplace=True)\n",
    "df['baths'].replace(['7,500'], 7.5, inplace=True)\n",
    "df['baths'].replace(['5,000'], 5, inplace=True)\n",
    "df['baths'].replace(['3,500'], 3.5, inplace=True)\n",
    "df['baths'].replace(['2,750'], 2.75, inplace=True)\n",
    "df['baths'].replace(['2,250'], 2.25, inplace=True)\n",
    "df['baths'].replace(['1,250'], 1.25, inplace=True)\n",
    "df['baths'].replace(['1,500'], 1.5, inplace=True)\n",
    "df['baths'].replace(['4,000'], 4, inplace=True)\n",
    "df['baths'].replace(['2,000'], 2, inplace=True)\n",
    "df['baths'].replace(['3,000'], 3, inplace=True)\n",
    "df['baths'].replace(['2,500'], 2.5, inplace=True)\n",
    "df['baths'].replace(['1,000'], 1, inplace=True)\n",
    "df['baths'].replace(['1,750'], 1.75, inplace=True)\n",
    "df['baths'] = df['baths'].fillna(0)"
   ]
  },
  {
   "cell_type": "code",
   "execution_count": 33,
   "metadata": {},
   "outputs": [],
   "source": [
    "# переведем в числовой признак и округлим до целого числа\n",
    "df['baths'] = df['baths'].astype(float).round()"
   ]
  },
  {
   "cell_type": "markdown",
   "metadata": {},
   "source": [
    "Поработаем с признаком city. Выявим пропуски и индексы без названия города."
   ]
  },
  {
   "cell_type": "code",
   "execution_count": 38,
   "metadata": {},
   "outputs": [
    {
     "name": "stdout",
     "output_type": "stream",
     "text": [
      "{'34474', '38732', '34432', '34481', '33954', '78045', '34747', '32179', '34741', '32668', '77032', '34473', '32686', '34488', '20003', '34744', '33126', '33955'}\n"
     ]
    }
   ],
   "source": [
    "# ищем пропуски\n",
    "city_isnulldata = df['city'].isnull()\n",
    "\n",
    "# ищем индексы без названия города\n",
    "print(set(list(df[city_isnulldata]['zipcode'])))"
   ]
  },
  {
   "cell_type": "markdown",
   "metadata": {},
   "source": [
    "Создадим список городов по индексу и заполним пропуски по городам через индексы."
   ]
  },
  {
   "cell_type": "code",
   "execution_count": 40,
   "metadata": {},
   "outputs": [
    {
     "name": "stdout",
     "output_type": "stream",
     "text": [
      "Количество пропущенных значений столбец city: 0.00 %\n"
     ]
    }
   ],
   "source": [
    "zipcode_city_list = {'20003':'Washington', '32179':'Ocklawaha', '32668':'Morriston', '32686':'Reddick', '33126':'Miami', '33954':'Port Charlotte',\n",
    "                     '33955':'Punta Gorda', '34432':'Dunnellon','34473':'Ocala', '34474':'Ocala', '34481':'Ocala', '34488':'Silver Springs',\n",
    "                     '34741':'KISSIMMEE', '34744':'Kissimmee', '34747':'Kissimmee\t', '38732':'Cleveland', '77032':'Houston', '78045':'Laredo'}\n",
    "\n",
    "def find_city (zipcode):\n",
    "    # смотрим есть ли zipcode в словаре, и если есть, возвращаем соответствующее значение\n",
    "    if zipcode in zipcode_city_list:\n",
    "        return zipcode_city_list[zipcode]\n",
    "    else:\n",
    "        return None  # если zipcode не найден, возвращаем None\n",
    "\n",
    "df['city_add'] = df['zipcode'].apply(find_city)\n",
    "\n",
    "# применим функцию к столбцу 'zipcode' и записываем результаты в столбец 'city_add'\n",
    "df['city_add'] = df['zipcode'].apply(find_city)\n",
    "\n",
    "# заполним пропущенные данные в столбце city по столбцу city_add\n",
    "df['city'].fillna(df['city_add'], inplace=True)\n",
    "\n",
    "# проверим на пропуски\n",
    "city_isnulldata_new = df['city'].isnull().mean()*100\n",
    "print(f'Количество пропущенных значений столбец city: {city_isnulldata_new:.2f} %')\n",
    "\n",
    "# удалим ненужный столбец\n",
    "df = df.drop(['city_add'], axis=1)"
   ]
  },
  {
   "cell_type": "markdown",
   "metadata": {},
   "source": [
    "Поработаем с признаком status."
   ]
  },
  {
   "cell_type": "code",
   "execution_count": 44,
   "metadata": {},
   "outputs": [
    {
     "name": "stdout",
     "output_type": "stream",
     "text": [
      "Количество пропущенных значений: 39917\n",
      "Процент пропущенных значений: 10.58%\n",
      "Количество уникальных значений: 159\n",
      "Уникальные значения: ['Active', 'for sale', nan, 'New construction', 'New', 'For sale', 'Pending', 'P', 'Active/Contingent', 'Pre-foreclosure / auction']\n"
     ]
    }
   ],
   "source": [
    "missing_values_count = df.status.isna().sum()\n",
    "total_count = len(df)\n",
    "missing_values_percentage = (missing_values_count / total_count) * 100\n",
    "\n",
    "print(f\"Количество пропущенных значений: {missing_values_count}\\n\"\n",
    "      f\"Процент пропущенных значений: {missing_values_percentage:.2f}%\\n\"\n",
    "      f\"Количество уникальных значений: {df.status.nunique()}\\n\"\n",
    "      f\"Уникальные значения: {list(df.status.unique()[:10])}\")"
   ]
  },
  {
   "cell_type": "markdown",
   "metadata": {},
   "source": [
    "Разделим статусы на категории, сократив при этом количество уникальных значений и заменим пропуски на 'unknown'."
   ]
  },
  {
   "cell_type": "code",
   "execution_count": 45,
   "metadata": {},
   "outputs": [],
   "source": [
    "categories = {\n",
    "    \"For Sale\": [\"for sale\", \"For sale\", \"New construction\", \"New\"],\n",
    "    \"Active\": [\n",
    "        \"Active\", \"A Active\", \"Active/Contingent\", \"Active Under Contract\", \"Active Option\", \"Auction - Active\",\n",
    "        \"Active With Contingencies\", \"Active Option Contract\", \"Active Contingency\", \"Active Backup\",\n",
    "        \"Active Contingent\", \"Active - Auction\", \"Active With Offer\", \"Active - Contingent\", \"Active with Contract\",\n",
    "        \"Temporary Active\", \"Re Activated\", \"Reactivated\"\n",
    "    ],\n",
    "    \"Pending\": [\n",
    "        \"P\", \"Pending\", \"pending\", \"P Pending Sale\", \"Pending Ab\", \"Pending Continue To Show\",\n",
    "        \"Pending Inspection\", \"Pending Offer Approval\", \"Pending In\", \"Pending W/Insp Finance\", \"Pending Fe\",\n",
    "        \"Pending W/Backup Wanted\", \"Pending Backups Wanted\", \"Pending With Contingencies\", \"Lease/Purchase Pending\",\n",
    "        \"Pending Bring Backup\", \"Pending - Taking Backups\", \"Pending - Continue to Show\",\n",
    "        \"Pending Taking Backups\", \"Offer Pending Signature\", \"Pending (Do Not Show)\", \"Pending W/ Cont.\",\n",
    "        \"Pending W/Escape Clause\", \"Pending - Backup Offer Requested\", \"Pending Sale\"\n",
    "    ],\n",
    "    \"Contingent\": [\n",
    "        \"Contingent\", \"Contingent Finance And Inspection\", \"Contingent Show\",\n",
    "        \"Contingent Take Backup\", \"Contingent - Sale of Home\", \"Contingent Finance and Inspection\",\n",
    "        \"C Continue Show\", \"Contingent   Show\", \"Contingent   Release\", \"Contingent   No Show\",\n",
    "        \"CT Insp - Inspection Contingency\", \"Contingent   Foreclosure\", \"Conting Accpt Backups\",\n",
    "        \"Contingent - Financing\", \"Contingency 48 Hr (+/ )\", \"Contingency Contract\", \"Contingent Escape\"\n",
    "    ],\n",
    "    \"Foreclosure\": [\n",
    "        \"Pre-foreclosure\", \"Pre-foreclosure / auction\", \" / auction\", \"Foreclosed\", \"foreclosure\", \"Foreclosure\"\n",
    "    ],\n",
    "    \"Under Contract\": [\n",
    "        \"Under Contract\", \"Under Contract   Showing\", \"Under Contract Backups\", \"Under Contract Show\",\n",
    "        \"Under Contract - Show\", \"Under Contract - No Show\", \"Under contract\", \"U Under Contract\",\n",
    "        \"Due Diligence Period\", \"Contract Contingent On Buyer Sale\", \"Contract P\", \"Ct\", \"Uc Continue To Show\",\n",
    "        \"Under Contract Taking Back Up Offers\", \"Under Contract W/ Bckp\", \"Contract\"\n",
    "    ],\n",
    "    \"For Rent\": [\"for rent\", \"Apartment for rent\", \"Condo for rent\"],\n",
    "    \"Auction\": [\"Auction\"],\n",
    "    \"Recently Sold\": [\"recently sold\"],\n",
    "    \"Price Change\": [\"Price Change\"],\n",
    "    \"Back on Market\": [\"Back on Market\", \"Back On Market\"],\n",
    "    \"Closed\": [\"Closed\"],\n",
    "    \"Listing Extended\": [\"Listing Extended\"],\n",
    "    \"Coming Soon\": [\n",
    "        \"Coming soon: Nov 21.\", \"Coming soon: Dec 4.\", \"Coming soon: Nov 23.\", \"Coming soon: Nov 29.\",\n",
    "        \"Coming soon: Dec 2.\", \"Coming soon: Dec 10.\", \"Coming soon: Dec 24.\", \"Coming soon: Nov 14.\",\n",
    "        \"Coming soon: Nov 22.\", \"Coming soon: Oct 21.\", \"Coming soon: Dec 14.\", \"Coming soon: Oct 24.\",\n",
    "        \"Coming soon: Dec 18.\", \"Coming soon: Dec 16.\", \"Coming soon: Dec 3.\", \"Coming soon: Dec 25.\",\n",
    "        \"Coming soon: Nov 11.\", \"Coming soon: Nov 28.\", \"Coming soon: Nov 17.\", \"Coming soon: Dec 6.\",\n",
    "        \"Coming soon: Nov 27.\", \"Coming soon: Nov 26.\", \"Coming soon: Dec 7.\", \"Coming soon: Dec 27.\",\n",
    "        \"Coming soon: Dec 11.\", \"Coming soon: Dec 5.\", \"Coming soon: Nov 13.\", \"Coming soon: Nov 19.\",\n",
    "        \"Coming soon: Nov 8.\", \"Coming soon: Oct 29.\", \"Coming soon: Dec 15.\", \"Coming soon: Oct 30.\",\n",
    "        \"Coming soon: Dec 9.\", \"Coming soon: Dec 20.\", \"Coming soon: Dec 13.\", \"Coming soon: Dec 23.\",\n",
    "        \"Coming soon: Nov 30.\", \"Coming soon: Dec 1.\", \"Coming soon: Nov 5.\", \"Coming soon: Nov 12.\",\n",
    "        \"Coming soon: Nov 25.\", \"Coming soon: Nov 9.\"\n",
    "    ],\n",
    "}\n",
    "\n",
    "def categorize_status(status_value):\n",
    "    for category, values in categories.items():\n",
    "        if status_value in values:\n",
    "            return category\n",
    "    return \"unknown\"\n",
    "\n",
    "# заменим значения на категории\n",
    "df['status'] = df['status'].apply(categorize_status)"
   ]
  },
  {
   "cell_type": "code",
   "execution_count": 47,
   "metadata": {},
   "outputs": [
    {
     "name": "stdout",
     "output_type": "stream",
     "text": [
      "Количество пропущенных значений: 0\n",
      "Процент пропущенных значений: 0.00%\n",
      "Количество уникальных значений: 15\n",
      "Уникальные значения: ['Active', 'For Sale', 'unknown', 'Pending', 'Foreclosure', 'Under Contract', 'For Rent', 'Auction', 'Contingent', 'Price Change']\n"
     ]
    }
   ],
   "source": [
    "#снова проверим\n",
    "missing_values_count = df.status.isna().sum()\n",
    "total_count = len(df)\n",
    "missing_values_percentage = (missing_values_count / total_count) * 100\n",
    "\n",
    "print(f\"Количество пропущенных значений: {missing_values_count}\\n\"\n",
    "      f\"Процент пропущенных значений: {missing_values_percentage:.2f}%\\n\"\n",
    "      f\"Количество уникальных значений: {df.status.nunique()}\\n\"\n",
    "      f\"Уникальные значения: {list(df.status.unique()[:10])}\")"
   ]
  },
  {
   "cell_type": "markdown",
   "metadata": {},
   "source": [
    "Рассмотрим признак propertyType."
   ]
  },
  {
   "cell_type": "code",
   "execution_count": 48,
   "metadata": {},
   "outputs": [
    {
     "name": "stdout",
     "output_type": "stream",
     "text": [
      "Количество пропущенных значений: 34733\n",
      "Процент пропущенных значений: 9.21%\n",
      "Количество уникальных значений: 1280\n",
      "Уникальные значения: ['Single Family Home', 'single-family home', 'lot/land', 'townhouse', 'Florida', nan, 'Single Family', 'coop', 'English', '2 Story']\n"
     ]
    }
   ],
   "source": [
    "missing_values_count = df.propertyType.isna().sum()\n",
    "total_count = len(df)\n",
    "missing_values_percentage = (missing_values_count / total_count) * 100\n",
    "\n",
    "print(f\"Количество пропущенных значений: {missing_values_count}\\n\"\n",
    "      f\"Процент пропущенных значений: {missing_values_percentage:.2f}%\\n\"\n",
    "      f\"Количество уникальных значений: {df.propertyType.nunique()}\\n\"\n",
    "      f\"Уникальные значения: {list(df.propertyType.unique()[:10])}\")"
   ]
  },
  {
   "cell_type": "markdown",
   "metadata": {},
   "source": [
    "Получилось большое количество пропущенных значений. Объединим похожие значения распространенных типов, оставшиеся заменим на 'other'."
   ]
  },
  {
   "cell_type": "code",
   "execution_count": 50,
   "metadata": {},
   "outputs": [
    {
     "name": "stdout",
     "output_type": "stream",
     "text": [
      "Количество уникальных значений столбца propertyType: 11\n"
     ]
    },
    {
     "data": {
      "text/plain": [
       "0.0"
      ]
     },
     "execution_count": 50,
     "metadata": {},
     "output_type": "execute_result"
    }
   ],
   "source": [
    "# переведем все типы к нижнему регистру\n",
    "df['propertyType'] = df['propertyType'].str.lower()\n",
    "\n",
    "# заменим похожие названия, выделила 9 основных типов, все остальные будут unknown\n",
    "df['propertyType'] = df['propertyType'].replace(['single-family home', 'single family home', 'singlefamilyresidence', '1 story',\n",
    "                                                'one story traditional', '1 story traditional', 'detached, one story',\n",
    "                                                'single detached', 'single wide', 'single-wide mobile with land',\n",
    "                                                '1 story, contemporary', '1 story, other (see remarks)',\n",
    "                                                'single detached, french', '1 story, traditional', 'single detached, traditional',\n",
    "                                                'one story', 'one level unit', '1 1/2 story', 'single wide mh',\n",
    "                                                '1 story,traditional', '1 story, historic/older, traditional', '1 story, split level'],\n",
    "                                        'single family')\n",
    "df['propertyType'] = df['propertyType'].replace(['multi-family', 'multi-family home', 'duplex', 'triplex', 'fourplex',\n",
    "                                                 'detached, two story', '2 story, other (see remarks)',\n",
    "                                                 'multi_level', '2-story', 'two story', 'multi-level, modern', '2 stories, traditional',\n",
    "                                                 '2 stories', 'traditional', 'attached or 1/2 duplex, traditional'],\n",
    "                                        'multi family')\n",
    "df['propertyType'] = df['propertyType'].replace(['coop', 'cooperative', 'condo/townhome/row home/co-op', 'condo/townhome','condominium',\n",
    "                                                 'condo/unit', 'apartment/condo/townhouse', 'co-op', '2 story condo', 'high rise',\n",
    "                                                 '2 unit condo', 'condo/townhome, contemporary/modern, loft, traditional',\n",
    "                                                 'condo/townhome, hi-rise, resort property, vacation home, contemporary/modern',\n",
    "                                                 'condo/townhome, other (see remarks)', 'condo/townhome, french',\n",
    "                                                 'condo/townhome, hi-rise, contemporary/modern, loft', 'condo, other (see remarks)',\n",
    "                                                 'condo/townhome, craftsman, traditional'],\n",
    "                                        'condo')\n",
    "df['propertyType'] = df['propertyType'].replace(['townhome style', 'townhouse-interior', 'townhouse-end unit',\n",
    "                                                 'townhouse, attached/row', 'townhouse, northwestern contemporary', 'attached, townhouse',\n",
    "                                                 'townhouse, 2-story', 'townhouse, two story, traditional', 'townhouse, villa'],\n",
    "                                        'townhouse')\n",
    "df['propertyType'] = df['propertyType'].replace(['lot/land'],\n",
    "                                        'land')\n",
    "df['propertyType'] = df['propertyType'].replace(['mobile/manufactured', 'mobile / manufactured', 'manufactured house', 'mfd/mobile home',\n",
    "                                                 'manufactured home', 'manufactured double-wide', 'manufactured single-wide',\n",
    "                                                 'mobile home 1 story', 'mobile manu - double wide','manufactured house,ranch, one story',\n",
    "                                                 'manufactured house, ranch, one story, manufactured home',\n",
    "                                                 'manufactured house, traditional, manufactured home', 'manufactured house, manufactured home',\n",
    "                                                 '1 story, manufactured home - single wide', 'manufactured home, mobile home, ranch'],\n",
    "                                        'mobile home')\n",
    "df['propertyType'] = df['propertyType'].replace(['designated historical home', 'historical/conservation district', 'historic/older',\n",
    "                                                 'historic vintage', 'historic', '1 story, historic/older, craftsman',\n",
    "                                                 'historical/conservation district, single detached, contemporary/modern, traditional',\n",
    "                                                 '1 story, historic/older, traditional, craftsman', 'historical, traditional',\n",
    "                                                 '2 stories, historic/older, craftsman'],\n",
    "                                        'historical')\n",
    "df['propertyType'] = df['propertyType'].replace(['rancher', '1 story/ranch', '1 story, ranch', 'rancher, raised ranch', 'farms/ranches',\n",
    "                                                 'hi ranch', 'ranch, one story', 'ranch, traditional', 'farm house',\n",
    "                                                 'ranch, one story, duplex', 'farm house', 'ranch, transitional',\n",
    "                                                 'bungalow, contemporary, ranch, traditional', '1 story, ranch, traditional, texas hill country',\n",
    "                                                 '1 story, contemporary, ranch, historic/older, traditional', 'farm house, transitional',\n",
    "                                                 'ranch, traditional, transitional', 'old world, ranch', 'ranch, split level', \n",
    "                                                 'ranch, spanish', 'farm/ranch house, single detached, contemporary/modern, ranch',\n",
    "                                                 '2 stories, colonial, ranch', '1 story, ranch, craftsman', 'raised ranch, rancher'],\n",
    "                                        'ranch')\n",
    "df['propertyType'] = df['propertyType'].replace(['condominium (single level)', 'high-rise', 'mid-rise', 'low-rise (1-3 stories)',\n",
    "                                                 'Flats', 'studio'],\n",
    "                                        'apartment')\n",
    "df['propertyType'] = df['propertyType'].replace('yes','other')\n",
    "\n",
    "# заменим пропуски на other\n",
    "df['propertyType'].fillna('other', inplace=True)\n",
    "\n",
    "# распространненные типы\n",
    "type_general = ['single family','multi family', 'condo', 'townhouse', 'land', 'mobile home', 'historical', 'ranch', 'apartment', 'unknown']\n",
    "# функция проверяет, есть ли значение столбца в списке основных типов, если нет, то other\n",
    "def change_type(type):\n",
    "    if type in type_general:\n",
    "        return type    # значение найдено в списке, остается без изменений\n",
    "    else:\n",
    "        return 'other'\n",
    "\n",
    "# применим функцию\n",
    "df['propertyType'] = df['propertyType'].apply(change_type)\n",
    "\n",
    "# проверим уникальные значения и пропуски\n",
    "uniq_propertyType_sum = df['propertyType'].nunique()\n",
    "print(f'Количество уникальных значений столбца propertyType: {uniq_propertyType_sum}')\n",
    "\n",
    "df['propertyType'].isnull().mean()*100"
   ]
  },
  {
   "cell_type": "markdown",
   "metadata": {},
   "source": [
    "Проработаем признак street."
   ]
  },
  {
   "cell_type": "code",
   "execution_count": 51,
   "metadata": {},
   "outputs": [
    {
     "name": "stdout",
     "output_type": "stream",
     "text": [
      "Количество пропущенных значений: 2\n",
      "Процент пропущенных значений: 0.00%\n",
      "Количество уникальных значений: 337076\n"
     ]
    }
   ],
   "source": [
    "missing_values_count = df.street.isna().sum()\n",
    "total_count = len(df)\n",
    "missing_values_percentage = (missing_values_count / total_count) * 100\n",
    "\n",
    "print(f\"Количество пропущенных значений: {missing_values_count}\\n\"\n",
    "      f\"Процент пропущенных значений: {missing_values_percentage:.2f}%\\n\"\n",
    "      f\"Количество уникальных значений: {df.street.nunique()}\")"
   ]
  },
  {
   "cell_type": "code",
   "execution_count": 56,
   "metadata": {},
   "outputs": [],
   "source": [
    "# удалим те строки, где есть пропуски в столбце street\n",
    "df = df.dropna(subset=['street'])"
   ]
  },
  {
   "cell_type": "markdown",
   "metadata": {},
   "source": [
    "Рассмотрим zipcode"
   ]
  },
  {
   "cell_type": "code",
   "execution_count": 58,
   "metadata": {},
   "outputs": [
    {
     "name": "stdout",
     "output_type": "stream",
     "text": [
      "Количество пропущенных значений: 0\n",
      "Процент пропущенных значений: 0.00%\n",
      "Количество уникальных значений: 4549\n",
      "Уникальные значения: ['--', '0', '00000', '02108', '02109', '02110', '02111', '02113', '02114', '02115']\n"
     ]
    }
   ],
   "source": [
    "missing_values_count = df['zipcode'].isna().sum()\n",
    "total_count = len(df)\n",
    "missing_values_percentage = (missing_values_count / total_count) * 100\n",
    "\n",
    "print(f\"Количество пропущенных значений: {missing_values_count}\\n\"\n",
    "f\"Процент пропущенных значений: {missing_values_percentage:.2f}%\\n\"\n",
    "f\"Количество уникальных значений: {df['zipcode'].nunique()}\\n\"\n",
    "f\"Уникальные значения: {list(df['zipcode'].sort_values().unique()[:10])}\")"
   ]
  },
  {
   "cell_type": "code",
   "execution_count": 60,
   "metadata": {},
   "outputs": [
    {
     "data": {
      "text/html": [
       "<div>\n",
       "<style scoped>\n",
       "    .dataframe tbody tr th:only-of-type {\n",
       "        vertical-align: middle;\n",
       "    }\n",
       "\n",
       "    .dataframe tbody tr th {\n",
       "        vertical-align: top;\n",
       "    }\n",
       "\n",
       "    .dataframe thead th {\n",
       "        text-align: right;\n",
       "    }\n",
       "</style>\n",
       "<table border=\"1\" class=\"dataframe\">\n",
       "  <thead>\n",
       "    <tr style=\"text-align: right;\">\n",
       "      <th></th>\n",
       "      <th>status</th>\n",
       "      <th>propertyType</th>\n",
       "      <th>street</th>\n",
       "      <th>baths</th>\n",
       "      <th>homeFacts</th>\n",
       "      <th>city</th>\n",
       "      <th>schools</th>\n",
       "      <th>sqft</th>\n",
       "      <th>zipcode</th>\n",
       "      <th>state</th>\n",
       "      <th>target</th>\n",
       "      <th>private_pool_final</th>\n",
       "      <th>beds_final</th>\n",
       "    </tr>\n",
       "  </thead>\n",
       "  <tbody>\n",
       "    <tr>\n",
       "      <th>30258</th>\n",
       "      <td>Active</td>\n",
       "      <td>land</td>\n",
       "      <td>Gates Canyon Rd</td>\n",
       "      <td>0.0</td>\n",
       "      <td>{'atAGlanceFacts': [{'factValue': '', 'factLab...</td>\n",
       "      <td>Vacaville</td>\n",
       "      <td>[{'rating': ['7', '4', '6', '6', '10', '2'], '...</td>\n",
       "      <td>0</td>\n",
       "      <td>0</td>\n",
       "      <td>CA</td>\n",
       "      <td>$380,000</td>\n",
       "      <td>False</td>\n",
       "      <td>0.0</td>\n",
       "    </tr>\n",
       "    <tr>\n",
       "      <th>83517</th>\n",
       "      <td>For Sale</td>\n",
       "      <td>other</td>\n",
       "      <td>Cornejo Ricardo Descalzi</td>\n",
       "      <td>0.0</td>\n",
       "      <td>{'atAGlanceFacts': [{'factValue': '1995', 'fac...</td>\n",
       "      <td>Quito Ecuador</td>\n",
       "      <td>[{'rating': [], 'data': {'Distance': [], 'Grad...</td>\n",
       "      <td>0</td>\n",
       "      <td>0</td>\n",
       "      <td>NY</td>\n",
       "      <td>470,000</td>\n",
       "      <td>False</td>\n",
       "      <td>0.0</td>\n",
       "    </tr>\n",
       "    <tr>\n",
       "      <th>231264</th>\n",
       "      <td>For Sale</td>\n",
       "      <td>other</td>\n",
       "      <td>0 N Gopher Canyon Rd</td>\n",
       "      <td>0.0</td>\n",
       "      <td>{'atAGlanceFacts': [{'factValue': '', 'factLab...</td>\n",
       "      <td>Bonsall</td>\n",
       "      <td>[{'rating': ['7/10', '7/10', '3/10'], 'data': ...</td>\n",
       "      <td>19558440</td>\n",
       "      <td>--</td>\n",
       "      <td>CA</td>\n",
       "      <td>$60,000,000</td>\n",
       "      <td>False</td>\n",
       "      <td>0.0</td>\n",
       "    </tr>\n",
       "    <tr>\n",
       "      <th>235188</th>\n",
       "      <td>unknown</td>\n",
       "      <td>townhouse</td>\n",
       "      <td>1744 N Dixie Hwy # 1744</td>\n",
       "      <td>3.0</td>\n",
       "      <td>{'atAGlanceFacts': [{'factValue': '2010', 'fac...</td>\n",
       "      <td>Fort Lauderdale</td>\n",
       "      <td>[{'rating': ['3/10', '5/10', '7/10'], 'data': ...</td>\n",
       "      <td>2043</td>\n",
       "      <td>--</td>\n",
       "      <td>FL</td>\n",
       "      <td>$425,000</td>\n",
       "      <td>False</td>\n",
       "      <td>3.0</td>\n",
       "    </tr>\n",
       "    <tr>\n",
       "      <th>305540</th>\n",
       "      <td>For Sale</td>\n",
       "      <td>land</td>\n",
       "      <td>000 U.S. Hwy 359</td>\n",
       "      <td>0.0</td>\n",
       "      <td>{'atAGlanceFacts': [{'factValue': '', 'factLab...</td>\n",
       "      <td>Laredo</td>\n",
       "      <td>[{'rating': ['4/10'], 'data': {'Distance': ['7...</td>\n",
       "      <td>243849</td>\n",
       "      <td>0</td>\n",
       "      <td>TX</td>\n",
       "      <td>$1,740,000</td>\n",
       "      <td>False</td>\n",
       "      <td>0.0</td>\n",
       "    </tr>\n",
       "    <tr>\n",
       "      <th>308196</th>\n",
       "      <td>Active</td>\n",
       "      <td>other</td>\n",
       "      <td>435 pescador</td>\n",
       "      <td>0.0</td>\n",
       "      <td>{'atAGlanceFacts': [{'factValue': '1972', 'fac...</td>\n",
       "      <td>Foreign Country</td>\n",
       "      <td>[{'rating': [], 'data': {'Distance': [], 'Grad...</td>\n",
       "      <td>1100</td>\n",
       "      <td>00000</td>\n",
       "      <td>OS</td>\n",
       "      <td>125,000</td>\n",
       "      <td>False</td>\n",
       "      <td>0.0</td>\n",
       "    </tr>\n",
       "  </tbody>\n",
       "</table>\n",
       "</div>"
      ],
      "text/plain": [
       "          status propertyType                     street  baths  \\\n",
       "30258     Active         land            Gates Canyon Rd    0.0   \n",
       "83517   For Sale        other  Cornejo Ricardo Descalzi     0.0   \n",
       "231264  For Sale        other       0 N Gopher Canyon Rd    0.0   \n",
       "235188   unknown    townhouse    1744 N Dixie Hwy # 1744    3.0   \n",
       "305540  For Sale         land           000 U.S. Hwy 359    0.0   \n",
       "308196    Active        other              435 pescador     0.0   \n",
       "\n",
       "                                                homeFacts             city  \\\n",
       "30258   {'atAGlanceFacts': [{'factValue': '', 'factLab...        Vacaville   \n",
       "83517   {'atAGlanceFacts': [{'factValue': '1995', 'fac...    Quito Ecuador   \n",
       "231264  {'atAGlanceFacts': [{'factValue': '', 'factLab...          Bonsall   \n",
       "235188  {'atAGlanceFacts': [{'factValue': '2010', 'fac...  Fort Lauderdale   \n",
       "305540  {'atAGlanceFacts': [{'factValue': '', 'factLab...           Laredo   \n",
       "308196  {'atAGlanceFacts': [{'factValue': '1972', 'fac...  Foreign Country   \n",
       "\n",
       "                                                  schools      sqft zipcode  \\\n",
       "30258   [{'rating': ['7', '4', '6', '6', '10', '2'], '...         0       0   \n",
       "83517   [{'rating': [], 'data': {'Distance': [], 'Grad...         0       0   \n",
       "231264  [{'rating': ['7/10', '7/10', '3/10'], 'data': ...  19558440      --   \n",
       "235188  [{'rating': ['3/10', '5/10', '7/10'], 'data': ...      2043      --   \n",
       "305540  [{'rating': ['4/10'], 'data': {'Distance': ['7...    243849       0   \n",
       "308196  [{'rating': [], 'data': {'Distance': [], 'Grad...      1100   00000   \n",
       "\n",
       "       state       target  private_pool_final  beds_final  \n",
       "30258     CA     $380,000               False         0.0  \n",
       "83517     NY      470,000               False         0.0  \n",
       "231264    CA  $60,000,000               False         0.0  \n",
       "235188    FL     $425,000               False         3.0  \n",
       "305540    TX   $1,740,000               False         0.0  \n",
       "308196    OS      125,000               False         0.0  "
      ]
     },
     "execution_count": 60,
     "metadata": {},
     "output_type": "execute_result"
    }
   ],
   "source": [
    "# выведем результат с некорректными значениями\n",
    "df[(df['zipcode']=='--') | (df['zipcode']=='0')| (df['zipcode']=='00000') ]"
   ]
  },
  {
   "cell_type": "code",
   "execution_count": 62,
   "metadata": {},
   "outputs": [],
   "source": [
    "# отфильтруем индексы строк с некорректными значениями \n",
    "indexes_to_drop = df[(df['zipcode']=='--') | (df['zipcode']=='0')| (df['zipcode']=='00000')].index\n",
    "\n",
    "# удалим строки с отфильтрованными индексами\n",
    "df = df.drop(indexes_to_drop)"
   ]
  },
  {
   "cell_type": "code",
   "execution_count": 63,
   "metadata": {},
   "outputs": [
    {
     "data": {
      "text/plain": [
       "array(['02108', '02109', '02110', '02111', '02113', '02114', '02115',\n",
       "       '02116', '02118', '02119'], dtype=object)"
      ]
     },
     "execution_count": 63,
     "metadata": {},
     "output_type": "execute_result"
    }
   ],
   "source": [
    "# смотри результат\n",
    "df.zipcode.sort_values().unique()[:10]"
   ]
  },
  {
   "cell_type": "code",
   "execution_count": 65,
   "metadata": {},
   "outputs": [],
   "source": [
    "# исправим не корректные zipcode, удалив вторую часть\n",
    "df.zipcode = df.zipcode.str.replace(\"-.+\",'', regex=True)"
   ]
  },
  {
   "cell_type": "markdown",
   "metadata": {},
   "source": [
    "Обратим внимаение на признак state."
   ]
  },
  {
   "cell_type": "code",
   "execution_count": 67,
   "metadata": {},
   "outputs": [
    {
     "name": "stdout",
     "output_type": "stream",
     "text": [
      "Количество пропущенных значений: 0\n",
      "Количество уникальных значений: 38\n",
      "Уникальные значения: ['NC', 'WA', 'CA', 'TX', 'FL', 'PA', 'TN', 'IA', 'NY', 'OR']\n"
     ]
    }
   ],
   "source": [
    "print(f\"Количество пропущенных значений: {df.state.isna().sum()}\\n\"\n",
    "      f\"Количество уникальных значений: {df.state.nunique()}\\n\"\n",
    "      f\"Уникальные значения: {list(df.state.unique()[:10])}\")"
   ]
  },
  {
   "cell_type": "markdown",
   "metadata": {},
   "source": [
    "Пропусков нет, оставляем."
   ]
  },
  {
   "cell_type": "markdown",
   "metadata": {},
   "source": [
    "Посмотрим на признак schools."
   ]
  },
  {
   "cell_type": "code",
   "execution_count": 68,
   "metadata": {},
   "outputs": [
    {
     "data": {
      "text/plain": [
       "\"[{'rating': [], 'data': {'Distance': [], 'Grades': []}, 'name': []}]\""
      ]
     },
     "execution_count": 68,
     "metadata": {},
     "output_type": "execute_result"
    }
   ],
   "source": [
    "df.schools[5]"
   ]
  },
  {
   "cell_type": "markdown",
   "metadata": {},
   "source": [
    "Как видим, признак состоит из рейтинга, расстояния до школы, оценки, названия. Последние два не представляют полезной информации, в отличие от рейтинга и расстояния до школы."
   ]
  },
  {
   "cell_type": "code",
   "execution_count": 69,
   "metadata": {},
   "outputs": [],
   "source": [
    "# рассчитаем средний рейтинг школы\n",
    "def process_rating(rating):\n",
    "    rating = rating[0].replace('/10', '')\n",
    "    extracted_numbers = [float(num) for num in rating if num.isdigit()]\n",
    "    average_rating = np.average(extracted_numbers) if extracted_numbers else -1\n",
    "    return round(average_rating, 1)\n",
    "\n",
    "s_rating = (\n",
    "    df.schools.str.findall(r\"\\brating': ([\\s\\S]+?), 'data\\b\")\n",
    "    .apply(lambda x: process_rating(x))\n",
    ")\n",
    "\n",
    "# создадим признак school_rating _mean в нашем наборе данных. Пропуски заполним -1 \n",
    "df['school_rating _mean'] = s_rating"
   ]
  },
  {
   "cell_type": "code",
   "execution_count": 71,
   "metadata": {},
   "outputs": [],
   "source": [
    "# расчитаем минимальную дистанцию\n",
    "s_distance = df.schools.str.findall(r\"\\bDistance': ([\\s\\S]+?), 'Grades\\b\") # извлечение расстояний до школ из каждой строки\n",
    "s_distance = s_distance.apply(lambda x: x[0]) # получение первого найденного значения из списка\n",
    "s_distance = s_distance.str.replace('[a-zA-Z]','', regex=True) # удаление всех символов алфавита из расстояний\n",
    "s_distance = s_distance.str.findall(r'\\b([0-9]+.[0-9]+)') # извлечение чисел в каждой строке\n",
    "s_distance = s_distance.apply(lambda x: [float(i) for i in x]) # преобразование в тип float\n",
    "school_dist_min = s_distance.apply(lambda x: -1 if len(x)==0 else min(x)) # нахождение минимального значения в каждом списке s_distance, и возвращение -1, если длина списка равна 0\n",
    "\n",
    "# создадим признак school_dist_min в нашем наборе данных. Пропуски заполним -1\n",
    "df['school_dist_min'] = school_dist_min\n",
    "\n",
    "# теперь можем удалить \n",
    "df.drop('schools', axis=1, inplace=True)"
   ]
  },
  {
   "cell_type": "markdown",
   "metadata": {},
   "source": [
    "Поработаем с признаком homeFacts."
   ]
  },
  {
   "cell_type": "code",
   "execution_count": 72,
   "metadata": {},
   "outputs": [
    {
     "name": "stdout",
     "output_type": "stream",
     "text": [
      "Количество пропущенных значений: 0\n",
      "Процент пропущенных значений: 0.00%\n",
      "Количество уникальных значений: 321004\n",
      "Уникальные значения: [\"{'atAGlanceFacts': [{'factValue': '2019', 'factLabel': 'Year built'}, {'factValue': '', 'factLabel': 'Remodeled year'}, {'factValue': 'Central A/C, Heat Pump', 'factLabel': 'Heating'}, {'factValue': '', 'factLabel': 'Cooling'}, {'factValue': '', 'factLabel': 'Parking'}, {'factValue': None, 'factLabel': 'lotsize'}, {'factValue': '$144', 'factLabel': 'Price/sqft'}]}\"]\n"
     ]
    }
   ],
   "source": [
    "missing_values_count = df.homeFacts.isna().sum()\n",
    "total_count = len(df)\n",
    "missing_values_percentage = (missing_values_count / total_count) * 100\n",
    "\n",
    "print(f\"Количество пропущенных значений: {missing_values_count}\\n\"\n",
    "f\"Процент пропущенных значений: {missing_values_percentage:.2f}%\\n\"\n",
    "f\"Количество уникальных значений: {df.homeFacts.nunique()}\\n\"\n",
    "f\"Уникальные значения: {list(df.homeFacts.unique()[:1])}\")"
   ]
  },
  {
   "cell_type": "markdown",
   "metadata": {},
   "source": [
    "Как видим, признак состоит из информации о годе постройки дома, реставрации дома, кондиционере, отоплении, паркинге, площади и цене в футах. Рассмотрим данные."
   ]
  },
  {
   "cell_type": "code",
   "execution_count": 73,
   "metadata": {},
   "outputs": [
    {
     "data": {
      "text/plain": [
       "[\"'Year built'\",\n",
       " \"'Remodeled year'\",\n",
       " \"'Heating'\",\n",
       " \"'Cooling'\",\n",
       " \"'Parking'\",\n",
       " \"'lotsize'\",\n",
       " \"'Price/sqft'\"]"
      ]
     },
     "execution_count": 73,
     "metadata": {},
     "output_type": "execute_result"
    }
   ],
   "source": [
    "# выберем значение Label и Value с помощью регулярных выражений\n",
    "label = df.homeFacts.str.findall(r\"\\bfactLabel': ([\\s\\S]+?)[}\\b]\")\n",
    "label[100]"
   ]
  },
  {
   "cell_type": "code",
   "execution_count": 74,
   "metadata": {},
   "outputs": [
    {
     "name": "stderr",
     "output_type": "stream",
     "text": [
      "C:\\Users\\1\\AppData\\Local\\Temp\\ipykernel_9732\\2695116100.py:2: FutureWarning: The behavior of `series[i:j]` with an integer-dtype index is deprecated. In a future version, this will be treated as *label-based* indexing, consistent with e.g. `series[i]` lookups. To retain the old behavior, use `series.iloc[i:j]`. To get the future behavior, use `series.loc[i:j]`.\n",
      "  Value[:10]\n"
     ]
    },
    {
     "data": {
      "text/plain": [
       "0    ['2019', '', 'Central A/C, Heat Pump', '', '',...\n",
       "1    ['2019', '', '', '', '', '5828 sqft', '$159/sq...\n",
       "2    ['1961', '1967', 'Forced Air', 'Central', 'Att...\n",
       "3    ['2006', '2006', 'Forced Air', 'Central', 'Det...\n",
       "4            ['', '', '', '', '', '10,019 sqft', None]\n",
       "5    ['1920', '', 'Forced Air', 'Central', '', '680...\n",
       "6    ['2006', '2006', 'Electric, Heat Pump', 'Centr...\n",
       "7    ['1976', '', '', '', '', '8,750 Sq. Ft.', '$57...\n",
       "8    ['1970', '', 'Forced Air', 'Central', '', '124...\n",
       "9    ['2019', None, 'Gas', 'Central', 'Attached Gar...\n",
       "Name: homeFacts, dtype: object"
      ]
     },
     "execution_count": 74,
     "metadata": {},
     "output_type": "execute_result"
    }
   ],
   "source": [
    "Value = df.homeFacts.str.findall(r\"\\bfactValue': ([\\s\\S]+?), 'factLabel\\b\")\n",
    "Value[:10]"
   ]
  },
  {
   "cell_type": "code",
   "execution_count": 75,
   "metadata": {},
   "outputs": [
    {
     "data": {
      "text/plain": [
       "['Year built',\n",
       " 'Remodeled year',\n",
       " 'Heating',\n",
       " 'Cooling',\n",
       " 'Parking',\n",
       " 'lotsize',\n",
       " 'Price/sqft']"
      ]
     },
     "execution_count": 75,
     "metadata": {},
     "output_type": "execute_result"
    }
   ],
   "source": [
    "# создадим список новых признаков, удалив лишние кавычки\n",
    "list_label = ','.join(label[0]).replace(\"'\",\"\").split(',')\n",
    "list_label"
   ]
  },
  {
   "cell_type": "code",
   "execution_count": 76,
   "metadata": {},
   "outputs": [],
   "source": [
    "# создадим эти признаки в нашем датафрейме и заполним значениями\n",
    "for i, val in enumerate(list_label):\n",
    "    df[val]=Value.apply(lambda x: x[i])"
   ]
  },
  {
   "cell_type": "code",
   "execution_count": 104,
   "metadata": {},
   "outputs": [],
   "source": [
    "# теперь признак homeFacts можем удалить\n",
    "df = df.drop('homeFacts', axis=1)"
   ]
  },
  {
   "cell_type": "markdown",
   "metadata": {},
   "source": [
    "Теперь перейдем к обработке новых признаков."
   ]
  },
  {
   "cell_type": "markdown",
   "metadata": {},
   "source": [
    "Расссмотрим признак Year built."
   ]
  },
  {
   "cell_type": "code",
   "execution_count": 77,
   "metadata": {},
   "outputs": [
    {
     "data": {
      "text/plain": [
       "array(['', '1', '1019', '1057', '1060', '1208', '1700', '1703', '1735',\n",
       "       '1740'], dtype=object)"
      ]
     },
     "execution_count": 77,
     "metadata": {},
     "output_type": "execute_result"
    }
   ],
   "source": [
    "#удалим лишние кавычки\n",
    "df['Year built'] = df['Year built'].str.replace(\"'\",'', regex=True)\n",
    "#посмотрим на уникальные значения\n",
    "df['Year built'].sort_values().unique()[:10]"
   ]
  },
  {
   "cell_type": "markdown",
   "metadata": {},
   "source": [
    "Годы постройки 1019', '1057', '1060 вероятно ошибочные и начинаются на 19..., поэтому исправим. А '', '1','1208', '2025', '559990649990', 'No Data' заменим на \"unknown\"."
   ]
  },
  {
   "cell_type": "code",
   "execution_count": 78,
   "metadata": {},
   "outputs": [],
   "source": [
    "df['Year built'] = df['Year built'].str.replace('^\\s*$','unknown', regex=True)\n",
    "df['Year built'] = df['Year built'].str.replace('No Data','unknown')\n",
    "df['Year built'] = df['Year built'].str.replace('559990649990','unknown')\n",
    "df['Year built'] = df['Year built'].str.replace('^1$','unknown', regex=True)\n",
    "df['Year built'] = df['Year built'].str.replace('None','unknown')\n",
    "\n",
    "df['Year built'] = df['Year built'].str.replace('1060','1960')\n",
    "df['Year built'] = df['Year built'].str.replace('1019','1919')\n",
    "df['Year built'] = df['Year built'].str.replace('1057','1957')"
   ]
  },
  {
   "cell_type": "markdown",
   "metadata": {},
   "source": [
    "Посмотрим теперь на признак Remodeled year."
   ]
  },
  {
   "cell_type": "code",
   "execution_count": 79,
   "metadata": {},
   "outputs": [
    {
     "data": {
      "text/plain": [
       "array(['', '0', '1111', '1738', '1800', '1845', '1846', '1853', '1862',\n",
       "       '1869'], dtype=object)"
      ]
     },
     "execution_count": 79,
     "metadata": {},
     "output_type": "execute_result"
    }
   ],
   "source": [
    "#удалим лишние кавычки\n",
    "df['Remodeled year'] = df['Remodeled year'].str.replace(\"'\",'', regex=True)\n",
    "#посмотрим на уникальные значения\n",
    "df['Remodeled year'].sort_values().unique()[:10]"
   ]
  },
  {
   "cell_type": "code",
   "execution_count": 80,
   "metadata": {},
   "outputs": [
    {
     "data": {
      "text/plain": [
       "array(['1738', '1800', '1845', '1846', '1853', '1862', '1869', '1870',\n",
       "       '1874', '1876'], dtype=object)"
      ]
     },
     "metadata": {},
     "output_type": "display_data"
    }
   ],
   "source": [
    "# заменим некорректные значения на None\n",
    "mask= df['Remodeled year'].isin(['', '0', '1111'])\n",
    "df.loc[mask,'Remodeled year'] = 'None'\n",
    "#Выведем уникальные значения\n",
    "display(df['Remodeled year'].sort_values().unique()[:10])"
   ]
  },
  {
   "cell_type": "code",
   "execution_count": 81,
   "metadata": {},
   "outputs": [
    {
     "name": "stdout",
     "output_type": "stream",
     "text": [
      "Количество пропущенных значений: 0\n",
      "Процент пропущенных значений: 0.00%\n",
      "Количество уникальных значений: 152\n",
      "Уникальные значения: ['1738', '1800', '1845', '1846', '1853', '1862', '1869', '1870', '1874', '1876']\n"
     ]
    }
   ],
   "source": [
    "# проверим на пропуски\n",
    "missing_values_count = df['Remodeled year'].isna().sum()\n",
    "total_count = len(df)\n",
    "missing_values_percentage = (missing_values_count / total_count) * 100\n",
    "\n",
    "print(f\"Количество пропущенных значений: {missing_values_count}\\n\"\n",
    "f\"Процент пропущенных значений: {missing_values_percentage:.2f}%\\n\"\n",
    "f\"Количество уникальных значений: {df['Remodeled year'].nunique()}\\n\"\n",
    "f\"Уникальные значения: {list(df['Remodeled year'].sort_values().unique()[:10])}\")"
   ]
  },
  {
   "cell_type": "code",
   "execution_count": 82,
   "metadata": {},
   "outputs": [
    {
     "name": "stdout",
     "output_type": "stream",
     "text": [
      "Процент None: 60.01%\n",
      "Количество None: 226325\n"
     ]
    }
   ],
   "source": [
    "# посмотрим на колличество пропуском в None в % соотношении\n",
    "print(f\"Процент None: {round(df[df['Remodeled year']=='None'].shape[0]/df.shape[0]*100, 2)}%\")\n",
    "print(f\"Количество None: {df.loc[df['Remodeled year']=='None', 'Remodeled year'].count()}\")"
   ]
  },
  {
   "cell_type": "markdown",
   "metadata": {},
   "source": [
    "Обнаруживается слишком много пропусков, поэтому логично удалить этот признак."
   ]
  },
  {
   "cell_type": "code",
   "execution_count": 83,
   "metadata": {},
   "outputs": [],
   "source": [
    "df = df.drop('Remodeled year', axis=1)"
   ]
  },
  {
   "cell_type": "markdown",
   "metadata": {},
   "source": [
    "Поработаем с признаком 'Heating'."
   ]
  },
  {
   "cell_type": "code",
   "execution_count": 85,
   "metadata": {},
   "outputs": [
    {
     "data": {
      "text/plain": [
       "'forced air'                     134307\n",
       "''                               105753\n",
       "'other'                           29622\n",
       "'electric'                        10216\n",
       "'gas'                              9296\n",
       "'heat pump'                        8851\n",
       "'no data'                          8610\n",
       "'central air'                      7814\n",
       "'central electric'                 7112\n",
       "'central'                          6247\n",
       "'central, electric'                4253\n",
       "'baseboard'                        3815\n",
       "none                               3533\n",
       "'wall'                             3301\n",
       "'electric heat'                    3064\n",
       "'heating system'                   2709\n",
       "'forced air, heat pump'            1767\n",
       "'radiant'                          1485\n",
       "'central air, ceiling fan(s)'      1432\n",
       "'natural gas heat'                 1383\n",
       "Name: Heating, dtype: int64"
      ]
     },
     "metadata": {},
     "output_type": "display_data"
    }
   ],
   "source": [
    "display(df['Heating'].str.lower().value_counts().head(20))"
   ]
  },
  {
   "cell_type": "markdown",
   "metadata": {},
   "source": [
    "Признак содержит информацию о различных типах отопления, но имеет большое колличество пропусков. Закодируем признаки булевыми переменными, где есть отопление - True (где есть записи), и где нет отопления('', 'No Data', 'No Heat Fuel', 'No Heat', 'None') - False."
   ]
  },
  {
   "cell_type": "code",
   "execution_count": 86,
   "metadata": {},
   "outputs": [
    {
     "data": {
      "text/plain": [
       "True     259154\n",
       "False    117973\n",
       "Name: Heating_final, dtype: int64"
      ]
     },
     "execution_count": 86,
     "metadata": {},
     "output_type": "execute_result"
    }
   ],
   "source": [
    "# удалим лишние кавычки\n",
    "df['Heating'] = df['Heating'].str.replace(\"'\",'', regex=True)\n",
    "\n",
    "# функция меняет столбец на булевые значения, там, где есть данные - True\n",
    "df['Heating_final'] = df['Heating'].apply(lambda x: True if x not in ['', 'No Data', 'No Heat Fuel', 'No Heat', 'None'] else False)\n",
    "df['Heating_final'].value_counts()"
   ]
  },
  {
   "cell_type": "code",
   "execution_count": 103,
   "metadata": {},
   "outputs": [],
   "source": [
    "# удалим признак 'Heating'\n",
    "df= df.drop('Heating', axis=1)"
   ]
  },
  {
   "cell_type": "markdown",
   "metadata": {},
   "source": [
    "Проработаем признак Cooling."
   ]
  },
  {
   "cell_type": "code",
   "execution_count": 88,
   "metadata": {},
   "outputs": [
    {
     "data": {
      "text/plain": [
       "'central'                                            158743\n",
       "''                                                   120390\n",
       "'central air'                                         14384\n",
       "'no data'                                             10615\n",
       "'has cooling'                                          9730\n",
       "'none'                                                 7390\n",
       "'central electric'                                     6154\n",
       "'wall'                                                 4017\n",
       "'central gas'                                          3573\n",
       "none                                                   3533\n",
       "'central heating'                                      2807\n",
       "'cooling system'                                       2700\n",
       "'central a/c'                                          2051\n",
       "'other'                                                1840\n",
       "'central a/c (electric), central heat (gas)'           1646\n",
       "'central a/c (electric), central heat (electric)'      1429\n",
       "'refrigeration'                                        1075\n",
       "'central, electric'                                    1060\n",
       "'electric'                                             1012\n",
       "'evaporative'                                          1011\n",
       "Name: Cooling, dtype: int64"
      ]
     },
     "execution_count": 88,
     "metadata": {},
     "output_type": "execute_result"
    }
   ],
   "source": [
    "df['Cooling'].str.lower().value_counts().head(20)"
   ]
  },
  {
   "cell_type": "code",
   "execution_count": 90,
   "metadata": {},
   "outputs": [],
   "source": [
    "# удалим лишние кавычки\n",
    "df['Cooling'] = df['Cooling'].str.replace(\"'\",'', regex=True)\n",
    "df['Cooling_encoded'] = df['Cooling'].apply(lambda x: True if x not in ['', 'no data', 'None', 'none'] else False)"
   ]
  },
  {
   "cell_type": "code",
   "execution_count": 92,
   "metadata": {},
   "outputs": [
    {
     "name": "stdout",
     "output_type": "stream",
     "text": [
      "Пропущенные данные в столбце Cooling: 31.9 %\n"
     ]
    }
   ],
   "source": [
    "# проверим на пропуски в % соотношении\n",
    "cooling_nodata_per = round(((df[df['Cooling']==''].shape[0]) / (df['Cooling'].shape[0]) * 100), 1)\n",
    "print(f'Пропущенные данные в столбце Cooling: {cooling_nodata_per} %')"
   ]
  },
  {
   "cell_type": "markdown",
   "metadata": {},
   "source": [
    "Признак Cooling содержит много пропусков, а также некорректной информации не только о наличии/отсутствии кондиционера, но еще о типах отопления, которые уже есть в признаке 'Heating'. Поэтому удаляем его."
   ]
  },
  {
   "cell_type": "code",
   "execution_count": 93,
   "metadata": {},
   "outputs": [],
   "source": [
    "# удалим признак 'Cooling'\n",
    "df= df.drop('Cooling', axis=1)"
   ]
  },
  {
   "cell_type": "markdown",
   "metadata": {},
   "source": [
    "Рассмотрим признак Parking."
   ]
  },
  {
   "cell_type": "code",
   "execution_count": 95,
   "metadata": {},
   "outputs": [
    {
     "data": {
      "text/plain": [
       "''                                    171839\n",
       "'attached garage'                      70748\n",
       "'2 spaces'                             28061\n",
       "'1 space'                              14252\n",
       "'no data'                              13332\n",
       "'detached garage'                      13200\n",
       "'carport'                               7743\n",
       "'off street'                            5279\n",
       "'3 spaces'                              4724\n",
       "none                                    3533\n",
       "'carport, attached garage'              3025\n",
       "'1'                                     2936\n",
       "'4 spaces'                              2917\n",
       "'2'                                     2756\n",
       "'none'                                  2368\n",
       "'on street'                             1707\n",
       "'attached garage, detached garage'      1354\n",
       "'0'                                     1114\n",
       "'attached garage, carport'               993\n",
       "'parking desc'                           900\n",
       "Name: Parking, dtype: int64"
      ]
     },
     "execution_count": 95,
     "metadata": {},
     "output_type": "execute_result"
    }
   ],
   "source": [
    "df['Parking'].str.lower().value_counts().head(20)"
   ]
  },
  {
   "cell_type": "code",
   "execution_count": 97,
   "metadata": {},
   "outputs": [
    {
     "name": "stdout",
     "output_type": "stream",
     "text": [
      "Пропущенные данные в столбце Parking: 45.6 %\n"
     ]
    }
   ],
   "source": [
    "#удалим лишние ковычки\n",
    "df['Parking'] = df['Parking'].str.replace(\"'\",'', regex=True)\n",
    "df['Parking_encoded'] = df['Parking'].apply(lambda x: True if x not in ['', 'no data', 'None', 'none','0'] else False)\n",
    "# проверим на пропуски в % соотношении\n",
    "Parking_nodata_per = round(((df[df['Parking']==''].shape[0]) / (df['Parking'].shape[0]) * 100), 1)\n",
    "print(f'Пропущенные данные в столбце Parking: {Parking_nodata_per} %')"
   ]
  },
  {
   "cell_type": "markdown",
   "metadata": {},
   "source": [
    "Пропусков много, почти половина, поэтому удаляем признак."
   ]
  },
  {
   "cell_type": "code",
   "execution_count": 98,
   "metadata": {},
   "outputs": [],
   "source": [
    "df = df.drop('Parking', axis=1)"
   ]
  },
  {
   "cell_type": "markdown",
   "metadata": {},
   "source": [
    "Признак lotsize показывает площадь территории, на которой находится дом, что не является информативным, поэтому удаляем его."
   ]
  },
  {
   "cell_type": "code",
   "execution_count": 101,
   "metadata": {},
   "outputs": [],
   "source": [
    "# удалим признак 'lotsize'\n",
    "df = df.drop('lotsize', axis=1)"
   ]
  },
  {
   "cell_type": "markdown",
   "metadata": {},
   "source": [
    "Признак Price/sqft напрямую зависит от целевого признака, что может привести к утечке данных. Удалим его."
   ]
  },
  {
   "cell_type": "code",
   "execution_count": 102,
   "metadata": {},
   "outputs": [],
   "source": [
    "# удалим признак 'Price/sqft'\n",
    "df= df.drop('Price/sqft', axis=1)"
   ]
  },
  {
   "cell_type": "markdown",
   "metadata": {},
   "source": [
    "**Займемся обработкой целевого признака target.**"
   ]
  },
  {
   "cell_type": "code",
   "execution_count": 106,
   "metadata": {},
   "outputs": [
    {
     "name": "stdout",
     "output_type": "stream",
     "text": [
      "Количество пропущенных значений: 2480\n",
      "Процент пропущенных значений: 0.66%\n",
      "Количество уникальных значений: 43938\n",
      "Уникальные значения: ['$1', '$1,000', '$1,000,000', '$1,000,000+', '$1,000,036', '$1,000,050', '$1,000,100', '$1,000,898', '$1,000/mo', '$1,001,713']\n"
     ]
    }
   ],
   "source": [
    "# проверим на пропуски\n",
    "missing_values_count = df['target'].isna().sum()\n",
    "total_count = len(df)\n",
    "missing_values_percentage = (missing_values_count / total_count) * 100\n",
    "\n",
    "print(f\"Количество пропущенных значений: {missing_values_count}\\n\"\n",
    "f\"Процент пропущенных значений: {missing_values_percentage:.2f}%\\n\"\n",
    "f\"Количество уникальных значений: {df['target'].nunique()}\\n\"\n",
    "f\"Уникальные значения: {list(df['target'].sort_values().unique()[:10])}\")"
   ]
  },
  {
   "cell_type": "markdown",
   "metadata": {},
   "source": [
    "Есть пропуски, поэтому удалим строки с пропусками, так как мы не можем их заполнить."
   ]
  },
  {
   "cell_type": "code",
   "execution_count": 107,
   "metadata": {},
   "outputs": [],
   "source": [
    "df = df.dropna(subset=['target'])"
   ]
  },
  {
   "cell_type": "code",
   "execution_count": 108,
   "metadata": {},
   "outputs": [],
   "source": [
    "# удалим лишние символы\n",
    "df['target'] = df['target'].replace('\\$', '', regex=True)\n",
    "df['target'] = df['target'].replace(',', '', regex=True)\n",
    "df['target'] = df['target'].replace('\\+', '', regex=True)"
   ]
  },
  {
   "cell_type": "markdown",
   "metadata": {},
   "source": [
    "В признаке есть значения, которые показывают, что это цена за месяц с с пометкой /mo, рассмотрим их."
   ]
  },
  {
   "cell_type": "code",
   "execution_count": 109,
   "metadata": {},
   "outputs": [
    {
     "data": {
      "text/html": [
       "<div>\n",
       "<style scoped>\n",
       "    .dataframe tbody tr th:only-of-type {\n",
       "        vertical-align: middle;\n",
       "    }\n",
       "\n",
       "    .dataframe tbody tr th {\n",
       "        vertical-align: top;\n",
       "    }\n",
       "\n",
       "    .dataframe thead th {\n",
       "        text-align: right;\n",
       "    }\n",
       "</style>\n",
       "<table border=\"1\" class=\"dataframe\">\n",
       "  <thead>\n",
       "    <tr style=\"text-align: right;\">\n",
       "      <th></th>\n",
       "      <th>status</th>\n",
       "      <th>propertyType</th>\n",
       "      <th>street</th>\n",
       "      <th>baths</th>\n",
       "      <th>city</th>\n",
       "      <th>sqft</th>\n",
       "      <th>zipcode</th>\n",
       "      <th>state</th>\n",
       "      <th>target</th>\n",
       "      <th>private_pool_final</th>\n",
       "      <th>beds_final</th>\n",
       "      <th>school_rating _mean</th>\n",
       "      <th>school_dist_min</th>\n",
       "      <th>Year built</th>\n",
       "      <th>Heating_final</th>\n",
       "      <th>Cooling_encoded</th>\n",
       "      <th>Parking_encoded</th>\n",
       "    </tr>\n",
       "  </thead>\n",
       "  <tbody>\n",
       "    <tr>\n",
       "      <th>547</th>\n",
       "      <td>For Rent</td>\n",
       "      <td>single family</td>\n",
       "      <td>4323 N Central Park Ave</td>\n",
       "      <td>4.0</td>\n",
       "      <td>Chicago</td>\n",
       "      <td>3300</td>\n",
       "      <td>60618</td>\n",
       "      <td>IL</td>\n",
       "      <td>5500/mo</td>\n",
       "      <td>False</td>\n",
       "      <td>4.0</td>\n",
       "      <td>2.3</td>\n",
       "      <td>0.13</td>\n",
       "      <td>1913</td>\n",
       "      <td>True</td>\n",
       "      <td>False</td>\n",
       "      <td>True</td>\n",
       "    </tr>\n",
       "    <tr>\n",
       "      <th>609</th>\n",
       "      <td>For Rent</td>\n",
       "      <td>multi family</td>\n",
       "      <td>220 Boylston St #1412</td>\n",
       "      <td>2.0</td>\n",
       "      <td>Boston</td>\n",
       "      <td>1673</td>\n",
       "      <td>2116</td>\n",
       "      <td>MA</td>\n",
       "      <td>10500/mo</td>\n",
       "      <td>False</td>\n",
       "      <td>2.0</td>\n",
       "      <td>-1.0</td>\n",
       "      <td>-1.00</td>\n",
       "      <td>1985</td>\n",
       "      <td>False</td>\n",
       "      <td>False</td>\n",
       "      <td>False</td>\n",
       "    </tr>\n",
       "    <tr>\n",
       "      <th>2075</th>\n",
       "      <td>For Rent</td>\n",
       "      <td>single family</td>\n",
       "      <td>2830 NE 56th Ct</td>\n",
       "      <td>4.0</td>\n",
       "      <td>Fort Lauderdale</td>\n",
       "      <td>2400</td>\n",
       "      <td>33308</td>\n",
       "      <td>FL</td>\n",
       "      <td>6390/mo</td>\n",
       "      <td>True</td>\n",
       "      <td>4.0</td>\n",
       "      <td>4.0</td>\n",
       "      <td>1.19</td>\n",
       "      <td>1965</td>\n",
       "      <td>False</td>\n",
       "      <td>False</td>\n",
       "      <td>False</td>\n",
       "    </tr>\n",
       "    <tr>\n",
       "      <th>3025</th>\n",
       "      <td>For Rent</td>\n",
       "      <td>multi family</td>\n",
       "      <td>411 Kline Aly</td>\n",
       "      <td>2.0</td>\n",
       "      <td>Clarksville</td>\n",
       "      <td>1280</td>\n",
       "      <td>37040</td>\n",
       "      <td>TN</td>\n",
       "      <td>1200/mo</td>\n",
       "      <td>False</td>\n",
       "      <td>2.0</td>\n",
       "      <td>8.0</td>\n",
       "      <td>0.68</td>\n",
       "      <td>2014</td>\n",
       "      <td>True</td>\n",
       "      <td>False</td>\n",
       "      <td>False</td>\n",
       "    </tr>\n",
       "    <tr>\n",
       "      <th>3645</th>\n",
       "      <td>For Rent</td>\n",
       "      <td>multi family</td>\n",
       "      <td>240 E Illinois St #2011</td>\n",
       "      <td>2.0</td>\n",
       "      <td>Chicago</td>\n",
       "      <td>1473</td>\n",
       "      <td>60611</td>\n",
       "      <td>IL</td>\n",
       "      <td>3600/mo</td>\n",
       "      <td>True</td>\n",
       "      <td>2.0</td>\n",
       "      <td>5.5</td>\n",
       "      <td>0.72</td>\n",
       "      <td>2003</td>\n",
       "      <td>False</td>\n",
       "      <td>False</td>\n",
       "      <td>True</td>\n",
       "    </tr>\n",
       "  </tbody>\n",
       "</table>\n",
       "</div>"
      ],
      "text/plain": [
       "        status   propertyType                   street  baths  \\\n",
       "547   For Rent  single family  4323 N Central Park Ave    4.0   \n",
       "609   For Rent   multi family    220 Boylston St #1412    2.0   \n",
       "2075  For Rent  single family          2830 NE 56th Ct    4.0   \n",
       "3025  For Rent   multi family            411 Kline Aly    2.0   \n",
       "3645  For Rent   multi family  240 E Illinois St #2011    2.0   \n",
       "\n",
       "                 city  sqft zipcode state    target  private_pool_final  \\\n",
       "547           Chicago  3300   60618    IL   5500/mo               False   \n",
       "609            Boston  1673    2116    MA  10500/mo               False   \n",
       "2075  Fort Lauderdale  2400   33308    FL   6390/mo                True   \n",
       "3025      Clarksville  1280   37040    TN   1200/mo               False   \n",
       "3645          Chicago  1473   60611    IL   3600/mo                True   \n",
       "\n",
       "      beds_final  school_rating _mean  school_dist_min Year built  \\\n",
       "547          4.0                  2.3             0.13       1913   \n",
       "609          2.0                 -1.0            -1.00       1985   \n",
       "2075         4.0                  4.0             1.19       1965   \n",
       "3025         2.0                  8.0             0.68       2014   \n",
       "3645         2.0                  5.5             0.72       2003   \n",
       "\n",
       "      Heating_final  Cooling_encoded  Parking_encoded  \n",
       "547            True            False             True  \n",
       "609           False            False            False  \n",
       "2075          False            False            False  \n",
       "3025           True            False            False  \n",
       "3645          False            False             True  "
      ]
     },
     "execution_count": 109,
     "metadata": {},
     "output_type": "execute_result"
    }
   ],
   "source": [
    "df[df['target'].str.contains('/mo',regex=True)].head()"
   ]
  },
  {
   "cell_type": "markdown",
   "metadata": {},
   "source": [
    "Поскольку задача спрогнозировать стоимость недвижимости, а тут мы видим \"For Rent\" - стоимость аренды, удалим такие строки."
   ]
  },
  {
   "cell_type": "code",
   "execution_count": 110,
   "metadata": {},
   "outputs": [],
   "source": [
    "df = df[~df['target'].str.contains('/mo', regex=True)]"
   ]
  },
  {
   "cell_type": "code",
   "execution_count": 111,
   "metadata": {},
   "outputs": [],
   "source": [
    "# переведем столбец в числовой формат\n",
    "df['target'] = df['target'].astype(int)"
   ]
  },
  {
   "cell_type": "code",
   "execution_count": 112,
   "metadata": {},
   "outputs": [
    {
     "name": "stdout",
     "output_type": "stream",
     "text": [
      "<class 'pandas.core.frame.DataFrame'>\n",
      "Int64Index: 374249 entries, 0 to 377134\n",
      "Data columns (total 17 columns):\n",
      " #   Column               Non-Null Count   Dtype  \n",
      "---  ------               --------------   -----  \n",
      " 0   status               374249 non-null  object \n",
      " 1   propertyType         374249 non-null  object \n",
      " 2   street               374249 non-null  object \n",
      " 3   baths                374249 non-null  float64\n",
      " 4   city                 374249 non-null  object \n",
      " 5   sqft                 374249 non-null  int32  \n",
      " 6   zipcode              374249 non-null  object \n",
      " 7   state                374249 non-null  object \n",
      " 8   target               374249 non-null  int32  \n",
      " 9   private_pool_final   374249 non-null  bool   \n",
      " 10  beds_final           374249 non-null  float64\n",
      " 11  school_rating _mean  374249 non-null  float64\n",
      " 12  school_dist_min      374249 non-null  float64\n",
      " 13  Year built           374249 non-null  object \n",
      " 14  Heating_final        374249 non-null  bool   \n",
      " 15  Cooling_encoded      374249 non-null  bool   \n",
      " 16  Parking_encoded      374249 non-null  bool   \n",
      "dtypes: bool(4), float64(4), int32(2), object(7)\n",
      "memory usage: 38.5+ MB\n"
     ]
    }
   ],
   "source": [
    "df.info()"
   ]
  },
  {
   "cell_type": "code",
   "execution_count": 113,
   "metadata": {},
   "outputs": [],
   "source": [
    "# сохраняем наши предобработанные данные в CSV-файл для дальнейшей работы\n",
    "df.to_csv(\"data/cleaned_data.csv\", index=False)"
   ]
  }
 ],
 "metadata": {
  "kernelspec": {
   "display_name": "Python 3",
   "language": "python",
   "name": "python3"
  },
  "language_info": {
   "codemirror_mode": {
    "name": "ipython",
    "version": 3
   },
   "file_extension": ".py",
   "mimetype": "text/x-python",
   "name": "python",
   "nbconvert_exporter": "python",
   "pygments_lexer": "ipython3",
   "version": "3.9.10"
  }
 },
 "nbformat": 4,
 "nbformat_minor": 2
}
