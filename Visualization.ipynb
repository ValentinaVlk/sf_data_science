{
 "cells": [
  {
   "cell_type": "code",
   "execution_count": null,
   "metadata": {},
   "outputs": [],
   "source": [
    "import pandas as pd\n",
    "churn_data = pd.read_csv('data/churn.csv')\n",
    "churn_data.head()\n"
   ]
  },
  {
   "attachments": {},
   "cell_type": "markdown",
   "metadata": {},
   "source": [
    "9.1. Каково соотношение ушедших и лояльных клиентов? Покажите это на графике и дайте комментарий по соотношению."
   ]
  },
  {
   "cell_type": "code",
   "execution_count": null,
   "metadata": {},
   "outputs": [],
   "source": [
    "churn_df = churn_data\n",
    "print (churn_df)"
   ]
  },
  {
   "cell_type": "code",
   "execution_count": null,
   "metadata": {},
   "outputs": [],
   "source": [
    "import matplotlib.pyplot as plt\n",
    "exited_data = churn_df['Exited'].value_counts()[:2]\n",
    "fig = plt.figure(figsize=(5, 5))\n",
    "axes = fig.add_axes([0, 0, 1, 1])\n",
    "axes.pie(\n",
    "    exited_data,\n",
    "    labels=exited_data.index,\n",
    "    autopct='%.1f%%',\n",
    "    explode = [0.1, 0]\n",
    ");\n",
    "\n",
    "title = axes.set_title('Соотношение ушедших и лояльных клиентов', fontsize=16)\n",
    "plt.show(fig)"
   ]
  },
  {
   "attachments": {},
   "cell_type": "markdown",
   "metadata": {},
   "source": [
    "Из данных диаграммы следует, что доля ушедших клиентов - 20.4%, а активных 79.6%."
   ]
  },
  {
   "attachments": {},
   "cell_type": "markdown",
   "metadata": {},
   "source": [
    "9.2. Постройте график, показывающий распределение баланса пользователей, у которых на счету больше 2 500 долларов. Опишите распределение и сделайте выводы."
   ]
  },
  {
   "cell_type": "code",
   "execution_count": null,
   "metadata": {},
   "outputs": [],
   "source": [
    "import seaborn as sns\n",
    "fig = plt.figure(figsize = (12, 4))\n",
    "boxplot = sns.boxplot(\n",
    "    data = churn_data[churn_data['Balance']>2500],\n",
    "    x='Balance',\n",
    "    orient='h',\n",
    "    width=0.5\n",
    ")\n",
    "boxplot.set_title('Распределение баланса пользователей', fontsize=16);\n",
    "boxplot.set_xlabel('Баланс');\n",
    "boxplot.grid()"
   ]
  },
  {
   "attachments": {},
   "cell_type": "markdown",
   "metadata": {},
   "source": [
    "Распределение баланса показывает, что диапазон от 100000 до 140000 самый распространенный- 50% пользователей; судя по медиане одинаковое количество пользователей (по 25%) имеет баланс 100000-120000 и 120000-140000 соответственно. Также максимальный баланс чуть меньше 200000."
   ]
  },
  {
   "attachments": {},
   "cell_type": "markdown",
   "metadata": {},
   "source": [
    "9.3. Посмотрите на распределение баланса клиента в разрезе признака оттока. Как различаются суммы на накопительном счёте ушедших и лояльных клиентов? Подумайте и напишите, с чем это может быть связано, что может не устраивать ушедших клиентов в банке."
   ]
  },
  {
   "cell_type": "code",
   "execution_count": null,
   "metadata": {},
   "outputs": [],
   "source": [
    "fig = plt.figure(figsize=(12, 4))\n",
    "boxplot = sns.boxplot(\n",
    "    data = churn_data,\n",
    "    y='Exited',\n",
    "    x='Balance',\n",
    "    orient='h',\n",
    "    width=0.6\n",
    ")\n",
    "boxplot.set_title('Распределение баланса клиентов в разрезе признака оттока');\n",
    "boxplot.set_xlabel('Баланс');\n",
    "boxplot.set_ylabel('1 - ушедшие, 2 - активные');\n",
    "boxplot.grid()"
   ]
  },
  {
   "attachments": {},
   "cell_type": "markdown",
   "metadata": {},
   "source": [
    "Среди активных пользователей максимальный разброс баланса от 0 до 125000 показывает, что не у всех клиентов есть деньги на счетах, также судя по медиане у большинства из них баланс до 90000. У ушедших разброс баланса не так велик - от 40000 до 130000, из которых у большинства баланс до 110000. Судя по балансу ушедших можно предположить, что клиентов не устраивали условия, например % на остаток или % по вкладу/накопительному счету."
   ]
  },
  {
   "attachments": {},
   "cell_type": "markdown",
   "metadata": {},
   "source": [
    "9.4. Посмотрите на распределение возраста в разрезе признака оттока. В какой группе больше потенциальных выбросов? На какую возрастную категорию клиентов стоит обратить внимание банку?"
   ]
  },
  {
   "cell_type": "code",
   "execution_count": null,
   "metadata": {},
   "outputs": [],
   "source": [
    "fig = plt.figure(figsize=(12, 4))\n",
    "boxplot = sns.boxplot(\n",
    "    data = churn_data,\n",
    "    y='Exited',\n",
    "    x='Age',\n",
    "    orient='h',\n",
    "    width=0.7\n",
    ")\n",
    "boxplot.set_title('Распределение возраста клиентов в разрезе признака оттока');\n",
    "boxplot.set_xlabel('Возраст');\n",
    "boxplot.set_ylabel('1 - ушедшие, 2 - активные');\n",
    "boxplot.grid()"
   ]
  },
  {
   "attachments": {},
   "cell_type": "markdown",
   "metadata": {},
   "source": [
    "Больше потенциальных выбросов в группе активных пользователей, где такой возраст составляет от 56 до 90+. Среди ушедших возрастная группа от 38 до 52, по медиане 45, отсюда следует, что банку следует обратить внимание на возрастную группу от 42-52 лет, тк в группе активных возраст до 42 включительно."
   ]
  },
  {
   "attachments": {},
   "cell_type": "markdown",
   "metadata": {},
   "source": [
    "9.5. Постройте график, который показывает взаимосвязь кредитного рейтинга клиента и его предполагаемой зарплаты. Добавьте расцветку по признаку оттока клиентов. Какова взаимосвязь между признаками? Если не видите явной взаимосвязи, укажите это."
   ]
  },
  {
   "cell_type": "code",
   "execution_count": null,
   "metadata": {},
   "outputs": [],
   "source": [
    "sns.scatterplot(\n",
    "    x='CreditScore',\n",
    "    y='EstimatedSalary',\n",
    "    data=churn_data,\n",
    "    palette='dark',\n",
    "    hue='Exited',\n",
    ")"
   ]
  },
  {
   "cell_type": "code",
   "execution_count": null,
   "metadata": {},
   "outputs": [],
   "source": [
    "jointplot = sns.jointplot(\n",
    "    data=churn_data, \n",
    "    x='CreditScore', \n",
    "    y='EstimatedSalary',\n",
    "    hue='Exited',\n",
    ")"
   ]
  },
  {
   "attachments": {},
   "cell_type": "markdown",
   "metadata": {},
   "source": [
    "Исходя из данных графиков явной взаимосвязи кредитного рейтинга клиента и его предполагаемой зарплаты нет."
   ]
  },
  {
   "attachments": {},
   "cell_type": "markdown",
   "metadata": {},
   "source": [
    "9.6. Кто чаще уходит, мужчины или женщины? Постройте график, который иллюстрирует это."
   ]
  },
  {
   "cell_type": "code",
   "execution_count": null,
   "metadata": {},
   "outputs": [],
   "source": [
    "sns.countplot(data=churn_df, x=\"Gender\", hue=\"Exited\" )"
   ]
  },
  {
   "attachments": {},
   "cell_type": "markdown",
   "metadata": {},
   "source": [
    "Чаще уходят женщины, что иллюстрирует график."
   ]
  },
  {
   "attachments": {},
   "cell_type": "markdown",
   "metadata": {},
   "source": [
    "9.7. Как отток клиентов зависит от числа приобретённых у банка услуг? Для ответа на этот вопрос постройте многоуровневую столбчатую диаграмму."
   ]
  },
  {
   "cell_type": "code",
   "execution_count": null,
   "metadata": {},
   "outputs": [],
   "source": [
    "sns.countplot(data=churn_df, x=\"NumOfProducts\", hue=\"Exited\" )"
   ]
  },
  {
   "attachments": {},
   "cell_type": "markdown",
   "metadata": {},
   "source": [
    "Самый большой отток среди клиентов, имеющих 1 банковскую услугу. По графику очевидно, что чем больше у клиента услуг, тем меньше отток."
   ]
  },
  {
   "attachments": {},
   "cell_type": "markdown",
   "metadata": {},
   "source": [
    "9.8. Как влияет наличие статуса активного клиента на отток клиентов? Постройте диаграмму, иллюстрирующую это. Что бы вы предложили банку, чтобы уменьшить отток клиентов среди неактивных?"
   ]
  },
  {
   "cell_type": "code",
   "execution_count": null,
   "metadata": {},
   "outputs": [],
   "source": [
    "sns.countplot(data=churn_df, x=\"IsActiveMember\", hue=\"Exited\" )"
   ]
  },
  {
   "attachments": {},
   "cell_type": "markdown",
   "metadata": {},
   "source": [
    "Статус активного клиента влияет на отток, тк среди активных клиентов отток гораздо меньше, а среди неактивных довольно высок. Возможно банку стоит предложить неактивным клиентам приобретать улуги банка на более выгодных условиях."
   ]
  },
  {
   "attachments": {},
   "cell_type": "markdown",
   "metadata": {},
   "source": [
    "9.9. В какой стране доля ушедших клиентов больше? Постройте тепловую картограмму, которая покажет это соотношение на карте мира. Предположите, с чем это может быть связано."
   ]
  },
  {
   "cell_type": "code",
   "execution_count": null,
   "metadata": {},
   "outputs": [],
   "source": [
    "churn_countries = churn_data.groupby('Geography',as_index=False)['Exited'].mean()\n",
    "churn_countries"
   ]
  },
  {
   "cell_type": "code",
   "execution_count": null,
   "metadata": {},
   "outputs": [],
   "source": [
    "import plotly\n",
    "import plotly.express as px\n",
    "fig = px.choropleth(\n",
    "    data_frame = churn_countries,\n",
    "    locations='Geography',\n",
    "    locationmode=\"country names\",\n",
    "    color='Exited',\n",
    "    range_color=[0, 0.4],\n",
    "    title='Доля ушедших клиентов по странам',\n",
    "    width=900,\n",
    "    height=700,\n",
    "    color_continuous_scale='Temps'\n",
    "    )\n",
    "\n",
    "fig.show()"
   ]
  },
  {
   "attachments": {},
   "cell_type": "markdown",
   "metadata": {},
   "source": [
    "Как мы видим, самая большая доля ушедших клиентов у Германии, далее Испания и Франция. Возможно в Германии большой выбор банков с более выгодными условиями."
   ]
  },
  {
   "attachments": {},
   "cell_type": "markdown",
   "metadata": {},
   "source": [
    "9.10. Переведите числовой признак CreditScore в категориальный. Для этого воспользуйтесь функцией get_credit_score_cat(), которая приведена ниже. Примените её к столбцу CreditScore и создайте новый признак CreditScoreCat — категории кредитного рейтинга."
   ]
  },
  {
   "cell_type": "code",
   "execution_count": null,
   "metadata": {},
   "outputs": [],
   "source": [
    "def get_credit_score_cat(credit_score):\n",
    "    if credit_score >= 300 and credit_score < 500:\n",
    "        return \"Very_Poor\"\n",
    "    elif credit_score >= 500 and credit_score < 601:\n",
    "        return \"Poor\"\n",
    "    elif credit_score >= 601 and credit_score < 661:\n",
    "        return \"Fair\"\n",
    "    elif credit_score >= 661 and credit_score < 781:\n",
    "        return \"Good\"\n",
    "    elif credit_score >= 781 and credit_score < 851:\n",
    "        return \"Excellent\"\n",
    "    elif credit_score >= 851:\n",
    "        return \"Top\"\n",
    "    elif credit_score < 300:\n",
    "        return \"Deep\""
   ]
  },
  {
   "attachments": {},
   "cell_type": "markdown",
   "metadata": {},
   "source": [
    "Постройте сводную таблицу, строками которой являются категории кредитного рейтинга (CreditScoreCat), а столбцами — количество лет, в течение которых клиент пользуется услугами банка (Tenure). В ячейках сводной таблицы должно находиться среднее по признаку оттока (Exited) — доля ушедших пользователей.\n",
    "\n",
    "На основе полученной сводной таблицы постройте тепловую карту с аннотацией. Найдите на тепловой карте категории клиентов, которые уходят чаще всего."
   ]
  },
  {
   "cell_type": "code",
   "execution_count": null,
   "metadata": {},
   "outputs": [],
   "source": [
    "import seaborn as sns\n",
    "churn_data['CreditScoreCat']=churn_data['CreditScore'].apply(get_credit_score_cat)\n",
    "pivot = churn_data.pivot_table(\n",
    "    values='Exited',\n",
    "    index='CreditScoreCat',\n",
    "    columns='Tenure'\n",
    ")\n",
    "fig = plt.figure()\n",
    "ax = sns.heatmap(data=pivot,annot=True);\n",
    "ax.set_title('Зависимость оттока клиентов от кредитного рейтинга и количества лет пользования банком');"
   ]
  },
  {
   "attachments": {},
   "cell_type": "markdown",
   "metadata": {},
   "source": [
    "Самый большой отток клиентов наблюдается среди группы с самым низким кредитным рейтингом и до года сотрудничеcтва с банком, далее клиенты с этим же рейтингом, но 10 годами сотрудничества, и на 3-ем месте опять же клиенты с этим же рейтингом, но 3-4 годами сотрудничества. В целом, категория клиентов с самым низким кредитным рейтингом уходит чаще всего."
   ]
  }
 ],
 "metadata": {
  "kernelspec": {
   "display_name": "Python 3",
   "language": "python",
   "name": "python3"
  },
  "language_info": {
   "codemirror_mode": {
    "name": "ipython",
    "version": 3
   },
   "file_extension": ".py",
   "mimetype": "text/x-python",
   "name": "python",
   "nbconvert_exporter": "python",
   "pygments_lexer": "ipython3",
   "version": "3.9.10 (tags/v3.9.10:f2f3f53, Jan 17 2022, 15:14:21) [MSC v.1929 64 bit (AMD64)]"
  },
  "orig_nbformat": 4,
  "vscode": {
   "interpreter": {
    "hash": "f168e493192cf62379bab96cddc2d1581e0e78601d92e03f37a37d0e0c9161e7"
   }
  }
 },
 "nbformat": 4,
 "nbformat_minor": 2
}
